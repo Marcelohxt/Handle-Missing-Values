{
 "cells": [
  {
   "cell_type": "markdown",
   "id": "dafb6ee5-f65f-4c36-8e96-c10bc1bb1323",
   "metadata": {},
   "source": [
    "# <font color='blue'>Data Science Academy</font>\n",
    "# <font color='blue'>Análise de Dados com Linguagem Python</font>\n",
    "\n",
    "## <font color='blue'>Projeto 4</font>\n",
    "## <font color='blue'>Análise de Dados Para Campanhas de Marketing de Instituições Financeiras</font>"
   ]
  },
  {
   "cell_type": "code",
   "execution_count": 5,
   "id": "5849ae9f-75ab-4f12-91d0-9efce5111b3b",
   "metadata": {},
   "outputs": [],
   "source": [
    "import math\n",
    "import sys, os\n",
    "import matplotlib.pyplot as plt\n",
    "import numpy as np\n",
    "import pandas as pd\n",
    "import watermark \n",
    "import seaborn as sns\n",
    "import warnings\n",
    "warnings.filterwarnings(\"ignore\")"
   ]
  },
  {
   "cell_type": "code",
   "execution_count": 6,
   "id": "bacbe571-66b7-4676-aa55-f5f06925cd58",
   "metadata": {},
   "outputs": [],
   "source": [
    "sys.path.append(os.path.abspath(os.path.join('modulos')))\n",
    "from estrategia1 import *\n",
    "from estrategia2 import *\n",
    "from estrategia3 import *"
   ]
  },
  {
   "cell_type": "markdown",
   "id": "f100967a-0336-4275-9990-117356faf8db",
   "metadata": {},
   "source": [
    "### Dataset Loading \"Carregando Banco de Dados\""
   ]
  },
  {
   "cell_type": "code",
   "execution_count": 8,
   "id": "fd6b5631-d124-459d-bdf6-2f7c214a493d",
   "metadata": {},
   "outputs": [],
   "source": [
    "df = pd.read_csv(\"dados/dataset.csv\")"
   ]
  },
  {
   "cell_type": "code",
   "execution_count": 9,
   "id": "018338e2-7eb5-4202-8719-01eb201e45fe",
   "metadata": {},
   "outputs": [
    {
     "data": {
      "text/plain": [
       "(45211, 19)"
      ]
     },
     "execution_count": 9,
     "metadata": {},
     "output_type": "execute_result"
    }
   ],
   "source": [
    "df.shape"
   ]
  },
  {
   "cell_type": "code",
   "execution_count": 10,
   "id": "58abacca-2c48-4392-91d4-46024da0bc58",
   "metadata": {},
   "outputs": [
    {
     "data": {
      "text/html": [
       "<div>\n",
       "<style scoped>\n",
       "    .dataframe tbody tr th:only-of-type {\n",
       "        vertical-align: middle;\n",
       "    }\n",
       "\n",
       "    .dataframe tbody tr th {\n",
       "        vertical-align: top;\n",
       "    }\n",
       "\n",
       "    .dataframe thead th {\n",
       "        text-align: right;\n",
       "    }\n",
       "</style>\n",
       "<table border=\"1\" class=\"dataframe\">\n",
       "  <thead>\n",
       "    <tr style=\"text-align: right;\">\n",
       "      <th></th>\n",
       "      <th>customerid</th>\n",
       "      <th>age</th>\n",
       "      <th>salary</th>\n",
       "      <th>balance</th>\n",
       "      <th>marital</th>\n",
       "      <th>jobedu</th>\n",
       "      <th>targeted</th>\n",
       "      <th>default</th>\n",
       "      <th>housing</th>\n",
       "      <th>loan</th>\n",
       "      <th>contact</th>\n",
       "      <th>day</th>\n",
       "      <th>month</th>\n",
       "      <th>duration</th>\n",
       "      <th>campaign</th>\n",
       "      <th>pdays</th>\n",
       "      <th>previous</th>\n",
       "      <th>poutcome</th>\n",
       "      <th>response</th>\n",
       "    </tr>\n",
       "  </thead>\n",
       "  <tbody>\n",
       "    <tr>\n",
       "      <th>0</th>\n",
       "      <td>1</td>\n",
       "      <td>58.0</td>\n",
       "      <td>100000.0</td>\n",
       "      <td>2143</td>\n",
       "      <td>married</td>\n",
       "      <td>management,tertiary</td>\n",
       "      <td>yes</td>\n",
       "      <td>no</td>\n",
       "      <td>yes</td>\n",
       "      <td>no</td>\n",
       "      <td>unknown</td>\n",
       "      <td>5</td>\n",
       "      <td>may, 2017</td>\n",
       "      <td>261 sec</td>\n",
       "      <td>1</td>\n",
       "      <td>-1</td>\n",
       "      <td>0</td>\n",
       "      <td>unknown</td>\n",
       "      <td>no</td>\n",
       "    </tr>\n",
       "    <tr>\n",
       "      <th>1</th>\n",
       "      <td>2</td>\n",
       "      <td>44.0</td>\n",
       "      <td>60000.0</td>\n",
       "      <td>29</td>\n",
       "      <td>single</td>\n",
       "      <td>technician,secondary</td>\n",
       "      <td>yes</td>\n",
       "      <td>no</td>\n",
       "      <td>yes</td>\n",
       "      <td>no</td>\n",
       "      <td>unknown</td>\n",
       "      <td>5</td>\n",
       "      <td>may, 2017</td>\n",
       "      <td>151 sec</td>\n",
       "      <td>1</td>\n",
       "      <td>-1</td>\n",
       "      <td>0</td>\n",
       "      <td>unknown</td>\n",
       "      <td>no</td>\n",
       "    </tr>\n",
       "    <tr>\n",
       "      <th>2</th>\n",
       "      <td>3</td>\n",
       "      <td>33.0</td>\n",
       "      <td>120000.0</td>\n",
       "      <td>2</td>\n",
       "      <td>married</td>\n",
       "      <td>entrepreneur,secondary</td>\n",
       "      <td>yes</td>\n",
       "      <td>no</td>\n",
       "      <td>yes</td>\n",
       "      <td>yes</td>\n",
       "      <td>unknown</td>\n",
       "      <td>5</td>\n",
       "      <td>may, 2017</td>\n",
       "      <td>76 sec</td>\n",
       "      <td>1</td>\n",
       "      <td>-1</td>\n",
       "      <td>0</td>\n",
       "      <td>unknown</td>\n",
       "      <td>no</td>\n",
       "    </tr>\n",
       "    <tr>\n",
       "      <th>3</th>\n",
       "      <td>4</td>\n",
       "      <td>47.0</td>\n",
       "      <td>20000.0</td>\n",
       "      <td>1506</td>\n",
       "      <td>married</td>\n",
       "      <td>blue-collar,unknown</td>\n",
       "      <td>no</td>\n",
       "      <td>no</td>\n",
       "      <td>yes</td>\n",
       "      <td>no</td>\n",
       "      <td>unknown</td>\n",
       "      <td>5</td>\n",
       "      <td>may, 2017</td>\n",
       "      <td>92 sec</td>\n",
       "      <td>1</td>\n",
       "      <td>-1</td>\n",
       "      <td>0</td>\n",
       "      <td>unknown</td>\n",
       "      <td>no</td>\n",
       "    </tr>\n",
       "    <tr>\n",
       "      <th>4</th>\n",
       "      <td>5</td>\n",
       "      <td>33.0</td>\n",
       "      <td>0.0</td>\n",
       "      <td>1</td>\n",
       "      <td>single</td>\n",
       "      <td>unknown,unknown</td>\n",
       "      <td>no</td>\n",
       "      <td>no</td>\n",
       "      <td>no</td>\n",
       "      <td>no</td>\n",
       "      <td>unknown</td>\n",
       "      <td>5</td>\n",
       "      <td>may, 2017</td>\n",
       "      <td>198 sec</td>\n",
       "      <td>1</td>\n",
       "      <td>-1</td>\n",
       "      <td>0</td>\n",
       "      <td>unknown</td>\n",
       "      <td>no</td>\n",
       "    </tr>\n",
       "  </tbody>\n",
       "</table>\n",
       "</div>"
      ],
      "text/plain": [
       "   customerid   age    salary  balance  marital                  jobedu  \\\n",
       "0           1  58.0  100000.0     2143  married     management,tertiary   \n",
       "1           2  44.0   60000.0       29   single    technician,secondary   \n",
       "2           3  33.0  120000.0        2  married  entrepreneur,secondary   \n",
       "3           4  47.0   20000.0     1506  married     blue-collar,unknown   \n",
       "4           5  33.0       0.0        1   single         unknown,unknown   \n",
       "\n",
       "  targeted default housing loan  contact  day      month duration  campaign  \\\n",
       "0      yes      no     yes   no  unknown    5  may, 2017  261 sec         1   \n",
       "1      yes      no     yes   no  unknown    5  may, 2017  151 sec         1   \n",
       "2      yes      no     yes  yes  unknown    5  may, 2017   76 sec         1   \n",
       "3       no      no     yes   no  unknown    5  may, 2017   92 sec         1   \n",
       "4       no      no      no   no  unknown    5  may, 2017  198 sec         1   \n",
       "\n",
       "   pdays  previous poutcome response  \n",
       "0     -1         0  unknown       no  \n",
       "1     -1         0  unknown       no  \n",
       "2     -1         0  unknown       no  \n",
       "3     -1         0  unknown       no  \n",
       "4     -1         0  unknown       no  "
      ]
     },
     "execution_count": 10,
     "metadata": {},
     "output_type": "execute_result"
    }
   ],
   "source": [
    "df.head()"
   ]
  },
  {
   "cell_type": "markdown",
   "id": "18aa9d1a-9cce-4adf-857a-65f30b9f7f24",
   "metadata": {},
   "source": [
    "### Exploratory Analysis \"Analise Exploratoria"
   ]
  },
  {
   "cell_type": "code",
   "execution_count": 12,
   "id": "a3c0f809-b85d-4e18-8576-5282195c5984",
   "metadata": {},
   "outputs": [
    {
     "name": "stdout",
     "output_type": "stream",
     "text": [
      "<class 'pandas.core.frame.DataFrame'>\n",
      "RangeIndex: 45211 entries, 0 to 45210\n",
      "Data columns (total 19 columns):\n",
      " #   Column      Non-Null Count  Dtype  \n",
      "---  ------      --------------  -----  \n",
      " 0   customerid  45211 non-null  int64  \n",
      " 1   age         45191 non-null  float64\n",
      " 2   salary      45185 non-null  float64\n",
      " 3   balance     45211 non-null  int64  \n",
      " 4   marital     45211 non-null  object \n",
      " 5   jobedu      45211 non-null  object \n",
      " 6   targeted    45211 non-null  object \n",
      " 7   default     45211 non-null  object \n",
      " 8   housing     45211 non-null  object \n",
      " 9   loan        45211 non-null  object \n",
      " 10  contact     45211 non-null  object \n",
      " 11  day         45211 non-null  int64  \n",
      " 12  month       45161 non-null  object \n",
      " 13  duration    45211 non-null  object \n",
      " 14  campaign    45211 non-null  int64  \n",
      " 15  pdays       45211 non-null  int64  \n",
      " 16  previous    45211 non-null  int64  \n",
      " 17  poutcome    45211 non-null  object \n",
      " 18  response    45181 non-null  object \n",
      "dtypes: float64(2), int64(6), object(11)\n",
      "memory usage: 6.6+ MB\n"
     ]
    }
   ],
   "source": [
    "# Get information about the dataset \" coletando informações dataset\" \n",
    "df.info()"
   ]
  },
  {
   "cell_type": "code",
   "execution_count": 13,
   "id": "0109c319-0cb1-45f5-b06e-8de79c40824e",
   "metadata": {},
   "outputs": [
    {
     "data": {
      "text/plain": [
       "customerid    False\n",
       "age            True\n",
       "salary         True\n",
       "balance       False\n",
       "marital       False\n",
       "jobedu        False\n",
       "targeted      False\n",
       "default       False\n",
       "housing       False\n",
       "loan          False\n",
       "contact       False\n",
       "day           False\n",
       "month          True\n",
       "duration      False\n",
       "campaign      False\n",
       "pdays         False\n",
       "previous      False\n",
       "poutcome      False\n",
       "response       True\n",
       "dtype: bool"
      ]
     },
     "execution_count": 13,
     "metadata": {},
     "output_type": "execute_result"
    }
   ],
   "source": [
    "# We have null values ? nos temos valores ausentes no data . verdadeiro ou falso para valores ausentes \n",
    "df.isna().any()"
   ]
  },
  {
   "cell_type": "code",
   "execution_count": 14,
   "id": "79e69427-11d8-43c9-97f6-99012102c9ab",
   "metadata": {},
   "outputs": [
    {
     "data": {
      "text/plain": [
       "customerid     0\n",
       "age           20\n",
       "salary        26\n",
       "balance        0\n",
       "marital        0\n",
       "jobedu         0\n",
       "targeted       0\n",
       "default        0\n",
       "housing        0\n",
       "loan           0\n",
       "contact        0\n",
       "day            0\n",
       "month         50\n",
       "duration       0\n",
       "campaign       0\n",
       "pdays          0\n",
       "previous       0\n",
       "poutcome       0\n",
       "response      30\n",
       "dtype: int64"
      ]
     },
     "execution_count": 14,
     "metadata": {},
     "output_type": "execute_result"
    }
   ],
   "source": [
    "# Sum null values \" soma valores ausentes' \n",
    "df.isna().sum()\n"
   ]
  },
  {
   "cell_type": "code",
   "execution_count": 15,
   "id": "b9fb197b-1f57-415e-875e-476f6c776018",
   "metadata": {},
   "outputs": [],
   "source": [
    "# Iremos remover a coluna ID pois se trata de um identificação pouco importante \n",
    "  # Drop deleta coluna \"CUSTOMER-ID\" axis eixo 1 inplace = a imputar exclucão no date set!  \n",
    "df.drop([\"customerid\"], axis = 1, inplace = True) \n"
   ]
  },
  {
   "cell_type": "code",
   "execution_count": 16,
   "id": "79c17fe1-0f4f-42b3-b333-509cc3ad540d",
   "metadata": {},
   "outputs": [
    {
     "data": {
      "text/plain": [
       "Index(['age', 'salary', 'balance', 'marital', 'jobedu', 'targeted', 'default',\n",
       "       'housing', 'loan', 'contact', 'day', 'month', 'duration', 'campaign',\n",
       "       'pdays', 'previous', 'poutcome', 'response'],\n",
       "      dtype='object')"
      ]
     },
     "execution_count": 16,
     "metadata": {},
     "output_type": "execute_result"
    }
   ],
   "source": [
    "df.columns # See the list of columns after deletion!  "
   ]
  },
  {
   "cell_type": "code",
   "execution_count": 17,
   "id": "b54d5f87-38e9-4582-a814-04499b82ee61",
   "metadata": {},
   "outputs": [
    {
     "data": {
      "text/html": [
       "<div>\n",
       "<style scoped>\n",
       "    .dataframe tbody tr th:only-of-type {\n",
       "        vertical-align: middle;\n",
       "    }\n",
       "\n",
       "    .dataframe tbody tr th {\n",
       "        vertical-align: top;\n",
       "    }\n",
       "\n",
       "    .dataframe thead th {\n",
       "        text-align: right;\n",
       "    }\n",
       "</style>\n",
       "<table border=\"1\" class=\"dataframe\">\n",
       "  <thead>\n",
       "    <tr style=\"text-align: right;\">\n",
       "      <th></th>\n",
       "      <th>age</th>\n",
       "      <th>salary</th>\n",
       "      <th>balance</th>\n",
       "      <th>marital</th>\n",
       "      <th>jobedu</th>\n",
       "      <th>targeted</th>\n",
       "      <th>default</th>\n",
       "      <th>housing</th>\n",
       "      <th>loan</th>\n",
       "      <th>contact</th>\n",
       "      <th>day</th>\n",
       "      <th>month</th>\n",
       "      <th>duration</th>\n",
       "      <th>campaign</th>\n",
       "      <th>pdays</th>\n",
       "      <th>previous</th>\n",
       "      <th>poutcome</th>\n",
       "      <th>response</th>\n",
       "    </tr>\n",
       "  </thead>\n",
       "  <tbody>\n",
       "    <tr>\n",
       "      <th>0</th>\n",
       "      <td>58.0</td>\n",
       "      <td>100000.0</td>\n",
       "      <td>2143</td>\n",
       "      <td>married</td>\n",
       "      <td>management,tertiary</td>\n",
       "      <td>yes</td>\n",
       "      <td>no</td>\n",
       "      <td>yes</td>\n",
       "      <td>no</td>\n",
       "      <td>unknown</td>\n",
       "      <td>5</td>\n",
       "      <td>may, 2017</td>\n",
       "      <td>261 sec</td>\n",
       "      <td>1</td>\n",
       "      <td>-1</td>\n",
       "      <td>0</td>\n",
       "      <td>unknown</td>\n",
       "      <td>no</td>\n",
       "    </tr>\n",
       "    <tr>\n",
       "      <th>1</th>\n",
       "      <td>44.0</td>\n",
       "      <td>60000.0</td>\n",
       "      <td>29</td>\n",
       "      <td>single</td>\n",
       "      <td>technician,secondary</td>\n",
       "      <td>yes</td>\n",
       "      <td>no</td>\n",
       "      <td>yes</td>\n",
       "      <td>no</td>\n",
       "      <td>unknown</td>\n",
       "      <td>5</td>\n",
       "      <td>may, 2017</td>\n",
       "      <td>151 sec</td>\n",
       "      <td>1</td>\n",
       "      <td>-1</td>\n",
       "      <td>0</td>\n",
       "      <td>unknown</td>\n",
       "      <td>no</td>\n",
       "    </tr>\n",
       "    <tr>\n",
       "      <th>2</th>\n",
       "      <td>33.0</td>\n",
       "      <td>120000.0</td>\n",
       "      <td>2</td>\n",
       "      <td>married</td>\n",
       "      <td>entrepreneur,secondary</td>\n",
       "      <td>yes</td>\n",
       "      <td>no</td>\n",
       "      <td>yes</td>\n",
       "      <td>yes</td>\n",
       "      <td>unknown</td>\n",
       "      <td>5</td>\n",
       "      <td>may, 2017</td>\n",
       "      <td>76 sec</td>\n",
       "      <td>1</td>\n",
       "      <td>-1</td>\n",
       "      <td>0</td>\n",
       "      <td>unknown</td>\n",
       "      <td>no</td>\n",
       "    </tr>\n",
       "    <tr>\n",
       "      <th>3</th>\n",
       "      <td>47.0</td>\n",
       "      <td>20000.0</td>\n",
       "      <td>1506</td>\n",
       "      <td>married</td>\n",
       "      <td>blue-collar,unknown</td>\n",
       "      <td>no</td>\n",
       "      <td>no</td>\n",
       "      <td>yes</td>\n",
       "      <td>no</td>\n",
       "      <td>unknown</td>\n",
       "      <td>5</td>\n",
       "      <td>may, 2017</td>\n",
       "      <td>92 sec</td>\n",
       "      <td>1</td>\n",
       "      <td>-1</td>\n",
       "      <td>0</td>\n",
       "      <td>unknown</td>\n",
       "      <td>no</td>\n",
       "    </tr>\n",
       "    <tr>\n",
       "      <th>4</th>\n",
       "      <td>33.0</td>\n",
       "      <td>0.0</td>\n",
       "      <td>1</td>\n",
       "      <td>single</td>\n",
       "      <td>unknown,unknown</td>\n",
       "      <td>no</td>\n",
       "      <td>no</td>\n",
       "      <td>no</td>\n",
       "      <td>no</td>\n",
       "      <td>unknown</td>\n",
       "      <td>5</td>\n",
       "      <td>may, 2017</td>\n",
       "      <td>198 sec</td>\n",
       "      <td>1</td>\n",
       "      <td>-1</td>\n",
       "      <td>0</td>\n",
       "      <td>unknown</td>\n",
       "      <td>no</td>\n",
       "    </tr>\n",
       "  </tbody>\n",
       "</table>\n",
       "</div>"
      ],
      "text/plain": [
       "    age    salary  balance  marital                  jobedu targeted default  \\\n",
       "0  58.0  100000.0     2143  married     management,tertiary      yes      no   \n",
       "1  44.0   60000.0       29   single    technician,secondary      yes      no   \n",
       "2  33.0  120000.0        2  married  entrepreneur,secondary      yes      no   \n",
       "3  47.0   20000.0     1506  married     blue-collar,unknown       no      no   \n",
       "4  33.0       0.0        1   single         unknown,unknown       no      no   \n",
       "\n",
       "  housing loan  contact  day      month duration  campaign  pdays  previous  \\\n",
       "0     yes   no  unknown    5  may, 2017  261 sec         1     -1         0   \n",
       "1     yes   no  unknown    5  may, 2017  151 sec         1     -1         0   \n",
       "2     yes  yes  unknown    5  may, 2017   76 sec         1     -1         0   \n",
       "3     yes   no  unknown    5  may, 2017   92 sec         1     -1         0   \n",
       "4      no   no  unknown    5  may, 2017  198 sec         1     -1         0   \n",
       "\n",
       "  poutcome response  \n",
       "0  unknown       no  \n",
       "1  unknown       no  \n",
       "2  unknown       no  \n",
       "3  unknown       no  \n",
       "4  unknown       no  "
      ]
     },
     "execution_count": 17,
     "metadata": {},
     "output_type": "execute_result"
    }
   ],
   "source": [
    "df.head()"
   ]
  },
  {
   "cell_type": "markdown",
   "id": "f805c74e-e852-4dc6-b8af-5c313ed618e4",
   "metadata": {},
   "source": [
    "### Seratando coluna Job-educação \n"
   ]
  },
  {
   "cell_type": "code",
   "execution_count": 19,
   "id": "a1bce657-ef54-41bd-8e57-853e6d1390bf",
   "metadata": {},
   "outputs": [],
   "source": [
    "# Separar a coluna 'jobedu' em duas novas colunas: 'Job' e 'Education'\n",
    "#df[['Job', 'Education']] = df['jobedu'].str.split(',', expand=True)\n",
    "#print(df)"
   ]
  },
  {
   "cell_type": "code",
   "execution_count": 20,
   "id": "d62f3e6e-3dee-47b8-a3a0-10b8cd72d20d",
   "metadata": {},
   "outputs": [
    {
     "data": {
      "text/plain": [
       "Index(['age', 'salary', 'balance', 'marital', 'jobedu', 'targeted', 'default',\n",
       "       'housing', 'loan', 'contact', 'day', 'month', 'duration', 'campaign',\n",
       "       'pdays', 'previous', 'poutcome', 'response'],\n",
       "      dtype='object')"
      ]
     },
     "execution_count": 20,
     "metadata": {},
     "output_type": "execute_result"
    }
   ],
   "source": [
    "df.columns"
   ]
  },
  {
   "cell_type": "markdown",
   "id": "bb606d95-1b86-4d74-8f30-198842c951e4",
   "metadata": {},
   "source": [
    "## Tratamento de Valores Ausentes"
   ]
  },
  {
   "cell_type": "code",
   "execution_count": 22,
   "id": "52f23230-3e6d-4de4-b4ee-d0768b7f2c36",
   "metadata": {},
   "outputs": [
    {
     "data": {
      "text/plain": [
       "age          True\n",
       "salary       True\n",
       "balance     False\n",
       "marital     False\n",
       "jobedu      False\n",
       "targeted    False\n",
       "default     False\n",
       "housing     False\n",
       "loan        False\n",
       "contact     False\n",
       "day         False\n",
       "month        True\n",
       "duration    False\n",
       "campaign    False\n",
       "pdays       False\n",
       "previous    False\n",
       "poutcome    False\n",
       "response     True\n",
       "dtype: bool"
      ]
     },
     "execution_count": 22,
     "metadata": {},
     "output_type": "execute_result"
    }
   ],
   "source": [
    "df.isna().any()"
   ]
  },
  {
   "cell_type": "code",
   "execution_count": 23,
   "id": "4c581dd3-39d1-4f49-a7b7-a301eb996330",
   "metadata": {},
   "outputs": [
    {
     "data": {
      "text/plain": [
       "age         20\n",
       "salary      26\n",
       "balance      0\n",
       "marital      0\n",
       "jobedu       0\n",
       "targeted     0\n",
       "default      0\n",
       "housing      0\n",
       "loan         0\n",
       "contact      0\n",
       "day          0\n",
       "month       50\n",
       "duration     0\n",
       "campaign     0\n",
       "pdays        0\n",
       "previous     0\n",
       "poutcome     0\n",
       "response    30\n",
       "dtype: int64"
      ]
     },
     "execution_count": 23,
     "metadata": {},
     "output_type": "execute_result"
    }
   ],
   "source": [
    "df.isna().sum()"
   ]
  },
  {
   "cell_type": "markdown",
   "id": "7807d4dc-bbec-420e-8d62-0d28001e4034",
   "metadata": {},
   "source": [
    "### tratando Variavel age #"
   ]
  },
  {
   "cell_type": "code",
   "execution_count": 25,
   "id": "5f52efd4-2227-4280-8e37-0b0dd3a4258a",
   "metadata": {},
   "outputs": [
    {
     "data": {
      "text/plain": [
       "20"
      ]
     },
     "execution_count": 25,
     "metadata": {},
     "output_type": "execute_result"
    }
   ],
   "source": [
    "# A linha df.age.isnull().sum() conta quantos valores ausentes (nulos) existem na coluna age do DataFrame df\n",
    "df.age.isnull().sum()"
   ]
  },
  {
   "cell_type": "code",
   "execution_count": 26,
   "id": "55fe98e0-74f1-4429-af94-c6d634054807",
   "metadata": {},
   "outputs": [
    {
     "data": {
      "text/plain": [
       "0.0442370219636814"
      ]
     },
     "execution_count": 26,
     "metadata": {},
     "output_type": "execute_result"
    }
   ],
   "source": [
    "# A linha df.age.isnull().mean()*100 calcula a porcentagem de valores ausentes (nulos) na coluna age do DataFrame df.\n",
    "df.age.isnull().mean()*100"
   ]
  },
  {
   "cell_type": "code",
   "execution_count": 27,
   "id": "5f3041bd-8a29-4d94-8d62-84bdea3177d8",
   "metadata": {},
   "outputs": [
    {
     "data": {
      "image/png": "[encoded data removed]",
      "text/plain": [
       "<Figure size 640x480 with 1 Axes>"
      ]
     },
     "metadata": {},
     "output_type": "display_data"
    }
   ],
   "source": [
    "# Histograma\n",
    "df.age.plot(kind = \"hist\")\n",
    "plt.title(\"Histograma da Variável Idade\\n\")\n",
    "plt.show()"
   ]
  },
  {
   "cell_type": "code",
   "execution_count": 28,
   "id": "c1d3acac-d154-4eb4-aea6-fa76e3790c08",
   "metadata": {},
   "outputs": [
    {
     "data": {
      "image/png": "[encoded data removed]",
      "text/plain": [
       "<Figure size 640x480 with 1 Axes>"
      ]
     },
     "metadata": {},
     "output_type": "display_data"
    }
   ],
   "source": [
    "# Boxplot\n",
    "sns.boxplot(df.age)\n",
    "plt.title(\"Boxplot da Variável Idade\\n\")\n",
    "plt.show()"
   ]
  },
  {
   "cell_type": "markdown",
   "id": "6647d9df-65a5-41f5-901f-ef8e165bd967",
   "metadata": {},
   "source": [
    "> Exercício 2: Vamos imputar os valores ausentes da variável age com uma medida de tendência central. Escolha uma das medidas, aplique a imputação e justifique sua escolha. Deixamos a variável como float ou como int? Se convertemos, fazemos isso antes ou depois da imputação?"
   ]
  },
  {
   "cell_type": "code",
   "execution_count": 30,
   "id": "327be764-8d6f-4c3c-a068-aaf843869b05",
   "metadata": {},
   "outputs": [
    {
     "data": {
      "text/plain": [
       "40.93565090394105"
      ]
     },
     "execution_count": 30,
     "metadata": {},
     "output_type": "execute_result"
    }
   ],
   "source": [
    "# Vamos verificar qual é a média de idade.\n",
    "df.age.mean()"
   ]
  },
  {
   "cell_type": "code",
   "execution_count": 31,
   "id": "60857a77-45a4-4146-90da-cc2d7c83380f",
   "metadata": {},
   "outputs": [
    {
     "data": {
      "text/plain": [
       "39.0"
      ]
     },
     "execution_count": 31,
     "metadata": {},
     "output_type": "execute_result"
    }
   ],
   "source": [
    "# Vamos verificar qual é a mediana, valor do meio da distribuição quando os dados estão ordenados.\n",
    "df.age.median()"
   ]
  },
  {
   "cell_type": "code",
   "execution_count": 32,
   "id": "7ecbc072-1e31-4524-8f2c-867148a0a962",
   "metadata": {},
   "outputs": [
    {
     "data": {
      "text/plain": [
       "0    32.0\n",
       "Name: age, dtype: float64"
      ]
     },
     "execution_count": 32,
     "metadata": {},
     "output_type": "execute_result"
    }
   ],
   "source": [
    "# Vamos verificar qual é a moda, o valor que aparece com mais frequência.\n",
    "df.age.mode()"
   ]
  },
  {
   "cell_type": "code",
   "execution_count": 33,
   "id": "d5be64bf-7265-4cae-9ba0-435f24d40f78",
   "metadata": {},
   "outputs": [
    {
     "name": "stdout",
     "output_type": "stream",
     "text": [
      "<class 'pandas.core.series.Series'>\n",
      "RangeIndex: 45211 entries, 0 to 45210\n",
      "Series name: age\n",
      "Non-Null Count  Dtype  \n",
      "--------------  -----  \n",
      "45191 non-null  float64\n",
      "dtypes: float64(1)\n",
      "memory usage: 353.3 KB\n"
     ]
    }
   ],
   "source": [
    "df.age.info()"
   ]
  },
  {
   "cell_type": "code",
   "execution_count": 34,
   "id": "905ea347-7837-46ae-806b-64808da4ae2c",
   "metadata": {},
   "outputs": [
    {
     "name": "stdout",
     "output_type": "stream",
     "text": [
      "O dataset tem 0.04 % de valores ausentes.\n"
     ]
    }
   ],
   "source": [
    "# Calculo de porcentagem de valores ausentes em AGE\n",
    "func_calc_percentual_valores_ausentes(df.age)"
   ]
  },
  {
   "cell_type": "code",
   "execution_count": 35,
   "id": "ec44a8c7-996f-4dfa-990e-5c7dec54ac09",
   "metadata": {},
   "outputs": [],
   "source": [
    "df[\"age\"] = df[\"age\"].fillna(df[\"age\"].median()).astype(\"int64\")"
   ]
  },
  {
   "cell_type": "code",
   "execution_count": 36,
   "id": "fedb3ed7-80de-451d-aba2-3282c882cd70",
   "metadata": {},
   "outputs": [],
   "source": [
    "convert_to_int(df, [\"age\"])"
   ]
  },
  {
   "cell_type": "code",
   "execution_count": 37,
   "id": "c6f5ba37-ce2d-423c-9be1-b620a567bda7",
   "metadata": {},
   "outputs": [
    {
     "data": {
      "text/plain": [
       "0        58\n",
       "1        44\n",
       "2        33\n",
       "3        47\n",
       "4        33\n",
       "         ..\n",
       "45206    51\n",
       "45207    71\n",
       "45208    72\n",
       "45209    57\n",
       "45210    37\n",
       "Name: age, Length: 45211, dtype: int64"
      ]
     },
     "execution_count": 37,
     "metadata": {},
     "output_type": "execute_result"
    }
   ],
   "source": [
    "df.age"
   ]
  },
  {
   "cell_type": "code",
   "execution_count": 38,
   "id": "f6a161bb-56e9-4b41-bd73-27bed8b53b72",
   "metadata": {
    "scrolled": true
   },
   "outputs": [
    {
     "name": "stdout",
     "output_type": "stream",
     "text": [
      "0     58\n",
      "1     44\n",
      "2     33\n",
      "3     47\n",
      "4     33\n",
      "5     35\n",
      "6     28\n",
      "7     42\n",
      "8     58\n",
      "9     43\n",
      "10    41\n",
      "Name: age, dtype: int64\n"
     ]
    }
   ],
   "source": [
    "result = df.loc[:10, 'age']\n",
    "# Exibir o resultado\n",
    "print(result)"
   ]
  },
  {
   "cell_type": "code",
   "execution_count": 39,
   "id": "9312ddec-e8e7-48bb-b761-3f10c0e9d319",
   "metadata": {},
   "outputs": [
    {
     "data": {
      "text/plain": [
       "0.0"
      ]
     },
     "execution_count": 39,
     "metadata": {},
     "output_type": "execute_result"
    }
   ],
   "source": [
    "df.age.isnull().mean()*100"
   ]
  },
  {
   "cell_type": "markdown",
   "id": "3482afca-9063-4345-9776-47f32fa6b659",
   "metadata": {},
   "source": [
    "### Exercise Number Trhee\n",
    "#### Tratamento de valores "
   ]
  },
  {
   "cell_type": "code",
   "execution_count": 41,
   "id": "55a22e93-71ad-483e-9084-d181956cc0db",
   "metadata": {},
   "outputs": [
    {
     "data": {
      "text/plain": [
       "50"
      ]
     },
     "execution_count": 41,
     "metadata": {},
     "output_type": "execute_result"
    }
   ],
   "source": [
    "# Calculando numero de valores asentes na coluna \"MONTH\"\n",
    "df.month.isnull().sum()\n"
   ]
  },
  {
   "cell_type": "code",
   "execution_count": 42,
   "id": "c5fcd19e-aaad-44ee-9742-4973eb740246",
   "metadata": {},
   "outputs": [
    {
     "data": {
      "text/plain": [
       "0.11059255490920351"
      ]
     },
     "execution_count": 42,
     "metadata": {},
     "output_type": "execute_result"
    }
   ],
   "source": [
    "# Calculando o Percentual de valores ausentes \n",
    "df.month.isnull().mean()*100"
   ]
  },
  {
   "cell_type": "markdown",
   "id": "0558c9eb-051d-48d3-885f-eb7ad96b5b6b",
   "metadata": {},
   "source": [
    "#### Como o percentual é menor doque 30% não podemos dropar a coluna, pois perderemos muitos dados"
   ]
  },
  {
   "cell_type": "code",
   "execution_count": 44,
   "id": "1d224793-498c-4eff-86ec-c1d60c50da65",
   "metadata": {},
   "outputs": [
    {
     "data": {
      "text/plain": [
       "dtype('O')"
      ]
     },
     "execution_count": 44,
     "metadata": {},
     "output_type": "execute_result"
    }
   ],
   "source": [
    "df.month.dtypes"
   ]
  },
  {
   "cell_type": "code",
   "execution_count": 45,
   "id": "53157547-ae31-40af-ba66-24b26fbe1723",
   "metadata": {},
   "outputs": [
    {
     "data": {
      "text/plain": [
       "month\n",
       "may, 2017    13747\n",
       "jul, 2017     6888\n",
       "aug, 2017     6240\n",
       "jun, 2017     5335\n",
       "nov, 2017     3968\n",
       "apr, 2017     2931\n",
       "feb, 2017     2646\n",
       "jan, 2017     1402\n",
       "oct, 2017      738\n",
       "sep, 2017      576\n",
       "mar, 2017      476\n",
       "dec, 2017      214\n",
       "Name: count, dtype: int64"
      ]
     },
     "execution_count": 45,
     "metadata": {},
     "output_type": "execute_result"
    }
   ],
   "source": [
    "df.month.value_counts()"
   ]
  },
  {
   "cell_type": "markdown",
   "id": "b77c4098-a1c3-4e18-9750-69cc6c2d67ce",
   "metadata": {},
   "source": [
    "Exercício 3: Vamos imputar os valores ausentes da variável month. Escolha uma estratégia e aplique no dataset."
   ]
  },
  {
   "cell_type": "markdown",
   "id": "553cbe0b-a24d-4a49-bb92-856d3813fd63",
   "metadata": {},
   "source": [
    "### Imputamos nesse caso a MODA quando imprimimos os registros da categoria may 2017 mais aparece em imputaremos com a 'moda'"
   ]
  },
  {
   "cell_type": "code",
   "execution_count": 48,
   "id": "274c8cfd-d808-4665-9983-d19f86b341b0",
   "metadata": {},
   "outputs": [
    {
     "data": {
      "text/plain": [
       "0    may, 2017\n",
       "Name: month, dtype: object"
      ]
     },
     "execution_count": 48,
     "metadata": {},
     "output_type": "execute_result"
    }
   ],
   "source": [
    "df.month.mode()"
   ]
  },
  {
   "cell_type": "code",
   "execution_count": 49,
   "id": "86e5b9f1-5250-4c7f-9fb7-66f042d8469f",
   "metadata": {},
   "outputs": [],
   "source": [
    "# Imputação com a moda \n",
    "\n",
    "# Preenchendo valores ausentes na coluna 'month' com \"May, 2017\"\n",
    "# O método fillna() substitui os valores NaN pelo valor especificado.\n",
    "# O parâmetro inplace=True faz a alteração diretamente no DataFrame, sem precisar reatribuir.\n",
    "df['month'].fillna(\"May, 2017\", inplace=True)\n"
   ]
  },
  {
   "cell_type": "code",
   "execution_count": 50,
   "id": "fe153074-443a-4fac-8aca-8f667f3e392e",
   "metadata": {},
   "outputs": [
    {
     "data": {
      "text/plain": [
       "0"
      ]
     },
     "execution_count": 50,
     "metadata": {},
     "output_type": "execute_result"
    }
   ],
   "source": [
    "# Soma valores Ausentes na coluna month, com metodo insnull,,\n",
    "df.month.isnull().sum()"
   ]
  },
  {
   "cell_type": "markdown",
   "id": "bdccfb6f-68e8-4823-b70d-138c5cf18a51",
   "metadata": {},
   "source": [
    "### Tratamento de Valores Ausentes em Salary "
   ]
  },
  {
   "cell_type": "code",
   "execution_count": 95,
   "id": "e1e493cf-1f01-4532-83e7-5e95a7afec4a",
   "metadata": {},
   "outputs": [
    {
     "data": {
      "text/plain": [
       "26"
      ]
     },
     "execution_count": 95,
     "metadata": {},
     "output_type": "execute_result"
    }
   ],
   "source": [
    "# Calculando quantidade de valores ausentes na variavel salary\n",
    "df.salary.isnull().sum()"
   ]
  },
  {
   "cell_type": "code",
   "execution_count": 97,
   "id": "6fb281cd-0165-4fb8-841e-e724cd3665ec",
   "metadata": {},
   "outputs": [
    {
     "data": {
      "text/plain": [
       "0.05750812855278583"
      ]
     },
     "execution_count": 97,
     "metadata": {},
     "output_type": "execute_result"
    }
   ],
   "source": [
    "# Calculando porcentagem de valores ausentes\n",
    "df.salary.isnull().mean()*100\n"
   ]
  },
  {
   "cell_type": "code",
   "execution_count": 99,
   "id": "cd17ffc7-6af7-46af-8ee9-d01d9dabaa5f",
   "metadata": {},
   "outputs": [
    {
     "data": {
      "text/plain": [
       "dtype('float64')"
      ]
     },
     "execution_count": 99,
     "metadata": {},
     "output_type": "execute_result"
    }
   ],
   "source": [
    "df.salary.dtypes"
   ]
  },
  {
   "cell_type": "markdown",
   "id": "a6d367a9-8127-43c1-a602-d1039af086e4",
   "metadata": {},
   "source": [
    "Como o percentual é baixo não podemos eliminar a coluna. Podemos então eliminar os registros com valores ausentes (nesse caso perderíamos 26 linhas no dataset) ou podemos aplicar imputação. Vamos usar a segunda opção.\n",
    "Mas espere. Vamos checar algo aqui."
   ]
  },
  {
   "cell_type": "code",
   "execution_count": 106,
   "id": "91378557-d0bc-4eb0-8057-298d0900b763",
   "metadata": {},
   "outputs": [
    {
     "data": {
      "text/html": [
       "<div>\n",
       "<style scoped>\n",
       "    .dataframe tbody tr th:only-of-type {\n",
       "        vertical-align: middle;\n",
       "    }\n",
       "\n",
       "    .dataframe tbody tr th {\n",
       "        vertical-align: top;\n",
       "    }\n",
       "\n",
       "    .dataframe thead th {\n",
       "        text-align: right;\n",
       "    }\n",
       "</style>\n",
       "<table border=\"1\" class=\"dataframe\">\n",
       "  <thead>\n",
       "    <tr style=\"text-align: right;\">\n",
       "      <th></th>\n",
       "      <th>age</th>\n",
       "      <th>salary</th>\n",
       "      <th>balance</th>\n",
       "      <th>marital</th>\n",
       "      <th>jobedu</th>\n",
       "      <th>targeted</th>\n",
       "      <th>default</th>\n",
       "      <th>housing</th>\n",
       "      <th>loan</th>\n",
       "      <th>contact</th>\n",
       "      <th>day</th>\n",
       "      <th>month</th>\n",
       "      <th>duration</th>\n",
       "      <th>campaign</th>\n",
       "      <th>pdays</th>\n",
       "      <th>previous</th>\n",
       "      <th>poutcome</th>\n",
       "      <th>response</th>\n",
       "    </tr>\n",
       "  </thead>\n",
       "  <tbody>\n",
       "    <tr>\n",
       "      <th>0</th>\n",
       "      <td>58</td>\n",
       "      <td>100000.0</td>\n",
       "      <td>2143</td>\n",
       "      <td>married</td>\n",
       "      <td>management,tertiary</td>\n",
       "      <td>yes</td>\n",
       "      <td>no</td>\n",
       "      <td>yes</td>\n",
       "      <td>no</td>\n",
       "      <td>unknown</td>\n",
       "      <td>5</td>\n",
       "      <td>may, 2017</td>\n",
       "      <td>261 sec</td>\n",
       "      <td>1</td>\n",
       "      <td>-1</td>\n",
       "      <td>0</td>\n",
       "      <td>unknown</td>\n",
       "      <td>no</td>\n",
       "    </tr>\n",
       "    <tr>\n",
       "      <th>1</th>\n",
       "      <td>44</td>\n",
       "      <td>60000.0</td>\n",
       "      <td>29</td>\n",
       "      <td>single</td>\n",
       "      <td>technician,secondary</td>\n",
       "      <td>yes</td>\n",
       "      <td>no</td>\n",
       "      <td>yes</td>\n",
       "      <td>no</td>\n",
       "      <td>unknown</td>\n",
       "      <td>5</td>\n",
       "      <td>may, 2017</td>\n",
       "      <td>151 sec</td>\n",
       "      <td>1</td>\n",
       "      <td>-1</td>\n",
       "      <td>0</td>\n",
       "      <td>unknown</td>\n",
       "      <td>no</td>\n",
       "    </tr>\n",
       "    <tr>\n",
       "      <th>2</th>\n",
       "      <td>33</td>\n",
       "      <td>120000.0</td>\n",
       "      <td>2</td>\n",
       "      <td>married</td>\n",
       "      <td>entrepreneur,secondary</td>\n",
       "      <td>yes</td>\n",
       "      <td>no</td>\n",
       "      <td>yes</td>\n",
       "      <td>yes</td>\n",
       "      <td>unknown</td>\n",
       "      <td>5</td>\n",
       "      <td>may, 2017</td>\n",
       "      <td>76 sec</td>\n",
       "      <td>1</td>\n",
       "      <td>-1</td>\n",
       "      <td>0</td>\n",
       "      <td>unknown</td>\n",
       "      <td>no</td>\n",
       "    </tr>\n",
       "    <tr>\n",
       "      <th>3</th>\n",
       "      <td>47</td>\n",
       "      <td>20000.0</td>\n",
       "      <td>1506</td>\n",
       "      <td>married</td>\n",
       "      <td>blue-collar,unknown</td>\n",
       "      <td>no</td>\n",
       "      <td>no</td>\n",
       "      <td>yes</td>\n",
       "      <td>no</td>\n",
       "      <td>unknown</td>\n",
       "      <td>5</td>\n",
       "      <td>may, 2017</td>\n",
       "      <td>92 sec</td>\n",
       "      <td>1</td>\n",
       "      <td>-1</td>\n",
       "      <td>0</td>\n",
       "      <td>unknown</td>\n",
       "      <td>no</td>\n",
       "    </tr>\n",
       "    <tr>\n",
       "      <th>4</th>\n",
       "      <td>33</td>\n",
       "      <td>0.0</td>\n",
       "      <td>1</td>\n",
       "      <td>single</td>\n",
       "      <td>unknown,unknown</td>\n",
       "      <td>no</td>\n",
       "      <td>no</td>\n",
       "      <td>no</td>\n",
       "      <td>no</td>\n",
       "      <td>unknown</td>\n",
       "      <td>5</td>\n",
       "      <td>may, 2017</td>\n",
       "      <td>198 sec</td>\n",
       "      <td>1</td>\n",
       "      <td>-1</td>\n",
       "      <td>0</td>\n",
       "      <td>unknown</td>\n",
       "      <td>no</td>\n",
       "    </tr>\n",
       "  </tbody>\n",
       "</table>\n",
       "</div>"
      ],
      "text/plain": [
       "   age    salary  balance  marital                  jobedu targeted default  \\\n",
       "0   58  100000.0     2143  married     management,tertiary      yes      no   \n",
       "1   44   60000.0       29   single    technician,secondary      yes      no   \n",
       "2   33  120000.0        2  married  entrepreneur,secondary      yes      no   \n",
       "3   47   20000.0     1506  married     blue-collar,unknown       no      no   \n",
       "4   33       0.0        1   single         unknown,unknown       no      no   \n",
       "\n",
       "  housing loan  contact  day      month duration  campaign  pdays  previous  \\\n",
       "0     yes   no  unknown    5  may, 2017  261 sec         1     -1         0   \n",
       "1     yes   no  unknown    5  may, 2017  151 sec         1     -1         0   \n",
       "2     yes  yes  unknown    5  may, 2017   76 sec         1     -1         0   \n",
       "3     yes   no  unknown    5  may, 2017   92 sec         1     -1         0   \n",
       "4      no   no  unknown    5  may, 2017  198 sec         1     -1         0   \n",
       "\n",
       "  poutcome response  \n",
       "0  unknown       no  \n",
       "1  unknown       no  \n",
       "2  unknown       no  \n",
       "3  unknown       no  \n",
       "4  unknown       no  "
      ]
     },
     "execution_count": 106,
     "metadata": {},
     "output_type": "execute_result"
    }
   ],
   "source": [
    "df.head()"
   ]
  },
  {
   "cell_type": "code",
   "execution_count": 108,
   "id": "32a9e6ef-1d38-44e5-ac7f-24e480620fd8",
   "metadata": {},
   "outputs": [
    {
     "data": {
      "image/png": "[encoded data removed]",
      "text/plain": [
       "<Figure size 640x480 with 1 Axes>"
      ]
     },
     "metadata": {},
     "output_type": "display_data"
    }
   ],
   "source": [
    "# Histograma\n",
    "df.salary.plot(kind = \"hist\")\n",
    "plt.title(\"histograma da Varivel Salário\\n\")\n",
    "plt.show()"
   ]
  },
  {
   "cell_type": "code",
   "execution_count": 110,
   "id": "2b0750fe-6cb1-4862-8ff4-1436881ccba3",
   "metadata": {},
   "outputs": [
    {
     "data": {
      "image/png": "[encoded data removed]",
      "text/plain": [
       "<Figure size 640x480 with 1 Axes>"
      ]
     },
     "metadata": {},
     "output_type": "display_data"
    }
   ],
   "source": [
    "# Boxplot \n",
    "sns.boxplot(df.salary)\n",
    "plt.title(\"Boxplot da Variavel Salario\\n\")\n",
    "plt.show()"
   ]
  },
  {
   "cell_type": "code",
   "execution_count": 112,
   "id": "a7fc92a9-1f18-4f3c-b1e2-305a14046b1c",
   "metadata": {},
   "outputs": [
    {
     "data": {
      "text/plain": [
       "57008.65331415293"
      ]
     },
     "execution_count": 112,
     "metadata": {},
     "output_type": "execute_result"
    }
   ],
   "source": [
    "# Vamos verificar qual é a média de idade\n",
    "df.salary.mean()"
   ]
  },
  {
   "cell_type": "code",
   "execution_count": 114,
   "id": "aa6346d5-4a59-4aa0-b2d6-14f7090cbf5d",
   "metadata": {},
   "outputs": [
    {
     "data": {
      "text/plain": [
       "60000.0"
      ]
     },
     "execution_count": 114,
     "metadata": {},
     "output_type": "execute_result"
    }
   ],
   "source": [
    "# Vamos verificar qual é a mediana\n",
    "df.salary.median()"
   ]
  },
  {
   "cell_type": "code",
   "execution_count": 118,
   "id": "1083270a-ad18-4250-841d-3d0736dd3d82",
   "metadata": {},
   "outputs": [
    {
     "data": {
      "text/plain": [
       "0    20000.0\n",
       "Name: salary, dtype: float64"
      ]
     },
     "execution_count": 118,
     "metadata": {},
     "output_type": "execute_result"
    }
   ],
   "source": [
    "# vamos verificar a Moda\n",
    "df.salary.mode()"
   ]
  },
  {
   "cell_type": "markdown",
   "id": "a54ecebb-d99e-4389-ad4a-2a286b74ea63",
   "metadata": {},
   "source": [
    "> Exercício 4: Vamos imputar os valores ausentes da variável salary com uma medida de tendência central. Precisamos também tratar os valores iguais a zero. Escolha sua estratégia, aplique a imputação e justifique sua escolha. "
   ]
  },
  {
   "cell_type": "code",
   "execution_count": 134,
   "id": "81d3ad10-c755-418e-bd23-23c9502ef261",
   "metadata": {},
   "outputs": [],
   "source": [
    "df.salary.fillna('6000', inplace = True)"
   ]
  },
  {
   "cell_type": "code",
   "execution_count": 126,
   "id": "badae1d8-bc5a-47de-bdd0-9a3ba6dd737e",
   "metadata": {},
   "outputs": [
    {
     "data": {
      "text/plain": [
       "0"
      ]
     },
     "execution_count": 126,
     "metadata": {},
     "output_type": "execute_result"
    }
   ],
   "source": [
    "df.salary.isnull().sum()"
   ]
  },
  {
   "cell_type": "code",
   "execution_count": 130,
   "id": "b948b4e9-1a59-491d-8e87-084c5d4c562f",
   "metadata": {},
   "outputs": [
    {
     "data": {
      "text/plain": [
       "0.0"
      ]
     },
     "execution_count": 130,
     "metadata": {},
     "output_type": "execute_result"
    }
   ],
   "source": [
    "df.salary.isnull().mean()*100"
   ]
  },
  {
   "cell_type": "code",
   "execution_count": 136,
   "id": "05ee61d2-86fe-42f6-92ca-e1264dea391b",
   "metadata": {},
   "outputs": [
    {
     "data": {
      "image/png": "[encoded data removed]",
      "text/plain": [
       "<Figure size 640x480 with 1 Axes>"
      ]
     },
     "metadata": {},
     "output_type": "display_data"
    }
   ],
   "source": [
    "df.salary.plot(kind = \"hist\")\n",
    "plt.title(\"Histograma da Variavel Salario\\n\")\n",
    "plt.show()"
   ]
  },
  {
   "cell_type": "code",
   "execution_count": 150,
   "id": "2e8d28b6-ba23-4034-b4bd-d28216640065",
   "metadata": {},
   "outputs": [],
   "source": [
    "# Substitui valores 0 na coluna \"salary\" pela mediana da própria coluna  \n",
    "# Em seguida, preenche valores ausentes (NaN) também com a mediana  \n",
    "df['salary'] = df['salary'].replace(0, df['salary'].median()).fillna(df['salary'].median())"
   ]
  },
  {
   "cell_type": "code",
   "execution_count": 152,
   "id": "bdd6d272-3295-474f-a630-b2aa7dfe358f",
   "metadata": {},
   "outputs": [
    {
     "data": {
      "text/plain": [
       "0.0"
      ]
     },
     "execution_count": 152,
     "metadata": {},
     "output_type": "execute_result"
    }
   ],
   "source": [
    "# Calcula a porcentagem de valores ausentes (NaN) na coluna \"salary\"  \n",
    "# Multiplicamos por 100 para expressar o resultado em percentual  \n",
    "df.salary.isnull().mean() * 100"
   ]
  },
  {
   "cell_type": "code",
   "execution_count": 156,
   "id": "63a7bb20-8e6d-4f48-bcca-0fa1eedd9394",
   "metadata": {},
   "outputs": [
    {
     "data": {
      "text/plain": [
       "age         False\n",
       "salary      False\n",
       "balance     False\n",
       "marital     False\n",
       "jobedu      False\n",
       "targeted    False\n",
       "default     False\n",
       "housing     False\n",
       "loan        False\n",
       "contact     False\n",
       "day         False\n",
       "month       False\n",
       "duration    False\n",
       "campaign    False\n",
       "pdays       False\n",
       "previous    False\n",
       "poutcome    False\n",
       "response     True\n",
       "dtype: bool"
      ]
     },
     "execution_count": 156,
     "metadata": {},
     "output_type": "execute_result"
    }
   ],
   "source": [
    "# Verifica se há valores ausentes (NaN) em cada coluna do DataFrame  \n",
    "# Retorna um resultado booleano para cada coluna (True se houver valores ausentes, False caso contrário)  \n",
    "df.isna().any()"
   ]
  },
  {
   "cell_type": "markdown",
   "id": "c2f04f32-441a-44ff-9eca-2608ceca5982",
   "metadata": {},
   "source": [
    "### Trantando Variavel \"RESPONSE\""
   ]
  },
  {
   "cell_type": "code",
   "execution_count": 159,
   "id": "d2afc90c-f374-45f6-b891-65b760c77f8e",
   "metadata": {},
   "outputs": [
    {
     "data": {
      "text/plain": [
       "30"
      ]
     },
     "execution_count": 159,
     "metadata": {},
     "output_type": "execute_result"
    }
   ],
   "source": [
    "# Calculando quantidade de valores ausentes na variavel salary\n",
    "df.response.isnull().sum()"
   ]
  },
  {
   "cell_type": "code",
   "execution_count": 163,
   "id": "601c6820-9049-4c54-91a8-67899d0f82b0",
   "metadata": {},
   "outputs": [
    {
     "data": {
      "text/plain": [
       "0.0663555329455221"
      ]
     },
     "execution_count": 163,
     "metadata": {},
     "output_type": "execute_result"
    }
   ],
   "source": [
    "# Calculando porcentagem de valores ausentes\n",
    "df.response.isnull().mean()*100"
   ]
  },
  {
   "cell_type": "code",
   "execution_count": 165,
   "id": "58613f20-76ee-49b7-a42d-35fb8b59eab3",
   "metadata": {},
   "outputs": [
    {
     "data": {
      "text/plain": [
       "dtype('float64')"
      ]
     },
     "execution_count": 165,
     "metadata": {},
     "output_type": "execute_result"
    }
   ],
   "source": [
    "df.salary.dtypes"
   ]
  },
  {
   "cell_type": "code",
   "execution_count": 167,
   "id": "37d6486b-b564-421b-8415-8e687c86b4ee",
   "metadata": {},
   "outputs": [
    {
     "data": {
      "text/html": [
       "<div>\n",
       "<style scoped>\n",
       "    .dataframe tbody tr th:only-of-type {\n",
       "        vertical-align: middle;\n",
       "    }\n",
       "\n",
       "    .dataframe tbody tr th {\n",
       "        vertical-align: top;\n",
       "    }\n",
       "\n",
       "    .dataframe thead th {\n",
       "        text-align: right;\n",
       "    }\n",
       "</style>\n",
       "<table border=\"1\" class=\"dataframe\">\n",
       "  <thead>\n",
       "    <tr style=\"text-align: right;\">\n",
       "      <th></th>\n",
       "      <th>age</th>\n",
       "      <th>salary</th>\n",
       "      <th>balance</th>\n",
       "      <th>marital</th>\n",
       "      <th>jobedu</th>\n",
       "      <th>targeted</th>\n",
       "      <th>default</th>\n",
       "      <th>housing</th>\n",
       "      <th>loan</th>\n",
       "      <th>contact</th>\n",
       "      <th>day</th>\n",
       "      <th>month</th>\n",
       "      <th>duration</th>\n",
       "      <th>campaign</th>\n",
       "      <th>pdays</th>\n",
       "      <th>previous</th>\n",
       "      <th>poutcome</th>\n",
       "      <th>response</th>\n",
       "    </tr>\n",
       "  </thead>\n",
       "  <tbody>\n",
       "    <tr>\n",
       "      <th>0</th>\n",
       "      <td>58</td>\n",
       "      <td>100000.0</td>\n",
       "      <td>2143</td>\n",
       "      <td>married</td>\n",
       "      <td>management,tertiary</td>\n",
       "      <td>yes</td>\n",
       "      <td>no</td>\n",
       "      <td>yes</td>\n",
       "      <td>no</td>\n",
       "      <td>unknown</td>\n",
       "      <td>5</td>\n",
       "      <td>may, 2017</td>\n",
       "      <td>261 sec</td>\n",
       "      <td>1</td>\n",
       "      <td>-1</td>\n",
       "      <td>0</td>\n",
       "      <td>unknown</td>\n",
       "      <td>no</td>\n",
       "    </tr>\n",
       "    <tr>\n",
       "      <th>1</th>\n",
       "      <td>44</td>\n",
       "      <td>60000.0</td>\n",
       "      <td>29</td>\n",
       "      <td>single</td>\n",
       "      <td>technician,secondary</td>\n",
       "      <td>yes</td>\n",
       "      <td>no</td>\n",
       "      <td>yes</td>\n",
       "      <td>no</td>\n",
       "      <td>unknown</td>\n",
       "      <td>5</td>\n",
       "      <td>may, 2017</td>\n",
       "      <td>151 sec</td>\n",
       "      <td>1</td>\n",
       "      <td>-1</td>\n",
       "      <td>0</td>\n",
       "      <td>unknown</td>\n",
       "      <td>no</td>\n",
       "    </tr>\n",
       "    <tr>\n",
       "      <th>2</th>\n",
       "      <td>33</td>\n",
       "      <td>120000.0</td>\n",
       "      <td>2</td>\n",
       "      <td>married</td>\n",
       "      <td>entrepreneur,secondary</td>\n",
       "      <td>yes</td>\n",
       "      <td>no</td>\n",
       "      <td>yes</td>\n",
       "      <td>yes</td>\n",
       "      <td>unknown</td>\n",
       "      <td>5</td>\n",
       "      <td>may, 2017</td>\n",
       "      <td>76 sec</td>\n",
       "      <td>1</td>\n",
       "      <td>-1</td>\n",
       "      <td>0</td>\n",
       "      <td>unknown</td>\n",
       "      <td>no</td>\n",
       "    </tr>\n",
       "    <tr>\n",
       "      <th>3</th>\n",
       "      <td>47</td>\n",
       "      <td>20000.0</td>\n",
       "      <td>1506</td>\n",
       "      <td>married</td>\n",
       "      <td>blue-collar,unknown</td>\n",
       "      <td>no</td>\n",
       "      <td>no</td>\n",
       "      <td>yes</td>\n",
       "      <td>no</td>\n",
       "      <td>unknown</td>\n",
       "      <td>5</td>\n",
       "      <td>may, 2017</td>\n",
       "      <td>92 sec</td>\n",
       "      <td>1</td>\n",
       "      <td>-1</td>\n",
       "      <td>0</td>\n",
       "      <td>unknown</td>\n",
       "      <td>no</td>\n",
       "    </tr>\n",
       "    <tr>\n",
       "      <th>4</th>\n",
       "      <td>33</td>\n",
       "      <td>60000.0</td>\n",
       "      <td>1</td>\n",
       "      <td>single</td>\n",
       "      <td>unknown,unknown</td>\n",
       "      <td>no</td>\n",
       "      <td>no</td>\n",
       "      <td>no</td>\n",
       "      <td>no</td>\n",
       "      <td>unknown</td>\n",
       "      <td>5</td>\n",
       "      <td>may, 2017</td>\n",
       "      <td>198 sec</td>\n",
       "      <td>1</td>\n",
       "      <td>-1</td>\n",
       "      <td>0</td>\n",
       "      <td>unknown</td>\n",
       "      <td>no</td>\n",
       "    </tr>\n",
       "  </tbody>\n",
       "</table>\n",
       "</div>"
      ],
      "text/plain": [
       "   age    salary  balance  marital                  jobedu targeted default  \\\n",
       "0   58  100000.0     2143  married     management,tertiary      yes      no   \n",
       "1   44   60000.0       29   single    technician,secondary      yes      no   \n",
       "2   33  120000.0        2  married  entrepreneur,secondary      yes      no   \n",
       "3   47   20000.0     1506  married     blue-collar,unknown       no      no   \n",
       "4   33   60000.0        1   single         unknown,unknown       no      no   \n",
       "\n",
       "  housing loan  contact  day      month duration  campaign  pdays  previous  \\\n",
       "0     yes   no  unknown    5  may, 2017  261 sec         1     -1         0   \n",
       "1     yes   no  unknown    5  may, 2017  151 sec         1     -1         0   \n",
       "2     yes  yes  unknown    5  may, 2017   76 sec         1     -1         0   \n",
       "3     yes   no  unknown    5  may, 2017   92 sec         1     -1         0   \n",
       "4      no   no  unknown    5  may, 2017  198 sec         1     -1         0   \n",
       "\n",
       "  poutcome response  \n",
       "0  unknown       no  \n",
       "1  unknown       no  \n",
       "2  unknown       no  \n",
       "3  unknown       no  \n",
       "4  unknown       no  "
      ]
     },
     "execution_count": 167,
     "metadata": {},
     "output_type": "execute_result"
    }
   ],
   "source": [
    "df.head()"
   ]
  },
  {
   "cell_type": "code",
   "execution_count": 191,
   "id": "423e2930-4890-4e53-910c-1c32340a4403",
   "metadata": {},
   "outputs": [],
   "source": [
    "# print(df['response'].head(50))  # Imprime as 50 primeiras linhas\n",
    "# df.response.mode()"
   ]
  },
  {
   "cell_type": "code",
   "execution_count": 193,
   "id": "38172619-50a6-4a5f-8104-6acb09feb557",
   "metadata": {},
   "outputs": [],
   "source": [
    "# Preencher valores ausentes com a moda (valor mais frequente)\n",
    "# df['response'] = df['response'].fillna(df['response'].mode()[0])\n"
   ]
  },
  {
   "cell_type": "code",
   "execution_count": 195,
   "id": "3eebaf93-b606-4b5d-8f2d-2ac45ce812fd",
   "metadata": {},
   "outputs": [],
   "source": [
    "# Calculando porcentagem de valores ausentes\n",
    "# df.response.isnull().mean()*100"
   ]
  },
  {
   "cell_type": "markdown",
   "id": "d9581407-2d8f-4607-81af-82e0968fdd1f",
   "metadata": {},
   "source": [
    "> Não devemos aplicar imputação na variavel de estudo (variavel resposta ou variavel alvo)\n",
    "> Vamos dropar os registros!\n"
   ]
  },
  {
   "cell_type": "code",
   "execution_count": 205,
   "id": "662bc531-8e5f-4802-ba37-e9defd64f66f",
   "metadata": {},
   "outputs": [],
   "source": [
    "# Remove as linhas onde a coluna 'response' tem valores ausentes (NaN)\n",
    "# O parâmetro 'subset' garante que apenas a coluna 'response' será verificada para valores ausentes.\n",
    "# 'inplace = True' modifica o DataFrame original, sem criar uma cópia.\n",
    "df.dropna(subset = [\"response\"], inplace = True)"
   ]
  },
  {
   "cell_type": "code",
   "execution_count": 207,
   "id": "13abcf56-5f3e-46f0-bbd9-d0d6033f3d6d",
   "metadata": {},
   "outputs": [
    {
     "data": {
      "text/plain": [
       "age         0\n",
       "salary      0\n",
       "balance     0\n",
       "marital     0\n",
       "jobedu      0\n",
       "targeted    0\n",
       "default     0\n",
       "housing     0\n",
       "loan        0\n",
       "contact     0\n",
       "day         0\n",
       "month       0\n",
       "duration    0\n",
       "campaign    0\n",
       "pdays       0\n",
       "previous    0\n",
       "poutcome    0\n",
       "response    0\n",
       "dtype: int64"
      ]
     },
     "execution_count": 207,
     "metadata": {},
     "output_type": "execute_result"
    }
   ],
   "source": [
    "# Verifica valores Na\n",
    "df.isnull().sum()"
   ]
  },
  {
   "cell_type": "markdown",
   "id": "76cc390b-6b7f-4e3d-a036-c12c3c18b2a1",
   "metadata": {},
   "source": [
    "### Tratamente de valores ausentes da variavel <font color='blue'>Pdays </font> "
   ]
  },
  {
   "cell_type": "code",
   "execution_count": 209,
   "id": "e9e69000-6d53-4375-acbf-ea15be24665c",
   "metadata": {},
   "outputs": [
    {
     "data": {
      "text/plain": [
       "0"
      ]
     },
     "execution_count": 209,
     "metadata": {},
     "output_type": "execute_result"
    }
   ],
   "source": [
    "df.pdays.isnull().sum()"
   ]
  },
  {
   "cell_type": "code",
   "execution_count": 211,
   "id": "c2da392a-eae1-4962-88af-d8b0c8d66cd1",
   "metadata": {},
   "outputs": [
    {
     "data": {
      "text/plain": [
       "count    45211.000000\n",
       "mean        40.197828\n",
       "std        100.128746\n",
       "min         -1.000000\n",
       "25%         -1.000000\n",
       "50%         -1.000000\n",
       "75%         -1.000000\n",
       "max        871.000000\n",
       "Name: pdays, dtype: float64"
      ]
     },
     "execution_count": 211,
     "metadata": {},
     "output_type": "execute_result"
    }
   ],
   "source": [
    "df.pdays.describe()"
   ]
  },
  {
   "cell_type": "markdown",
   "id": "61dddc90-96ac-4c09-9875-61664b747d6a",
   "metadata": {},
   "source": [
    "-1 indica um valor ausente "
   ]
  },
  {
   "cell_type": "code",
   "execution_count": null,
   "id": "887aca73-4adb-4439-89a0-07316e5b4d83",
   "metadata": {},
   "outputs": [],
   "source": []
  }
 ],
 "metadata": {
  "kernelspec": {
   "display_name": "Python [conda env:meu_ambiente]",
   "language": "python",
   "name": "conda-env-meu_ambiente-py"
  },
  "language_info": {
   "codemirror_mode": {
    "name": "ipython",
    "version": 3
   },
   "file_extension": ".py",
   "mimetype": "text/x-python",
   "name": "python",
   "nbconvert_exporter": "python",
   "pygments_lexer": "ipython3",
   "version": "3.8.20"
  }
 },
 "nbformat": 4,
 "nbformat_minor": 5
}
