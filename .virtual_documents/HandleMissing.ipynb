import math
import sys, os
import numpy as np
import pandas as pd
import watermark 


sys.path.append(os.path.abspath(os.path.join('modulos')))
from estrategia1 import *
from estrategia2 import *
from estrategia3 import *


pd.set_option('display.max_columns', 100)





# Criamos uma lista para identificar valores ausentes
lista_labels_valores_ausentes = ["n/a", "na", "undefined"]


dataset = pd.read_csv("dados/dataset.csv", na_values = lista_labels_valores_ausentes)


# Shape
dataset.shape


dataset.head()



