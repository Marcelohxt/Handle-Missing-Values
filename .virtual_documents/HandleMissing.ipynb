import math
import sys, os
import numpy as np
import pandas as pd
import watermark 


sys.path.append(os.path.abspath(os.path.join('modulos')))
from estrategia1 import *
from estrategia2 import *
from estrategia3 import *


pd.set_option('display.max_columns', 100)





# Criamos uma lista para identificar valores ausentes
lista_labels_valores_ausentes = ["n/a", "na", "non-null", "undefined"]


dataset = pd.read_csv("dados/dataset.csv", na_values = lista_labels_valores_ausentes)


# Shape
dataset.shape


dataset.head()





dataset.info()


dataset.describe()


dataset.shape





func_calc_percentual_valores_ausentes(dataset)


df_missing = func_calc_percentual_valores_ausentes_coluna(dataset)


df_missing


colunas_para_remover = df_missing[df_missing['% de Valores Ausentes'] >= 30.00].index.tolist()


colunas_para_remover


func_calc_percentual_valores_ausentes(dataset)


func_calc_percentual_valores_ausentes_coluna(dataset)





df = dataset


print(df.isnull().sum())


df_missing = dataset[['age', 'salary', 'month', 'response']]


print(df_missing.isnull().sum())


df_missing.head()





# Preencher valores ausentes em 'age' e 'salary' com a média
dataset['age'].fillna(dataset['age'].mean(), inplace=True)
dataset['salary'].fillna(dataset['salary'].mean(), inplace=True)



# Preencher valores ausentes em 'month' e 'response' com a moda
dataset['month'].fillna(dataset['month'].mode()[0], inplace=True)
dataset['response'].fillna(dataset['response'].mode()[0], inplace=True)



print(df.isnull().sum())


func_calc_percentual_valores_ausentes(dataset)


# Verificar resumo estatístico do dataset
print(dataset.describe())



dataset['salary'] = dataset['salary'].replace(0, np.nan)
dataset['salary'].fillna(dataset['salary'].median(), inplace=True)



dataset['balance'] = dataset['balance'].apply(lambda x: x if x >= 0 else np.nan)
dataset['balance'].fillna(dataset['balance'].median(), inplace=True)



# Transformando a coluna 'age' em inteiro
dataset['age'] = dataset['age'].astype(int)


# Substituir vírgulas por nada (caso haja separadores de milhar) e pontos por ponto final (caso seja separador decimal)
dataset['salary'] = dataset['salary'].replace({',': '', '.': '.'}, regex=True)

# Converter a coluna 'salary' para float
dataset['salary'] = dataset['salary'].astype(float)



print(dataset.salary)



