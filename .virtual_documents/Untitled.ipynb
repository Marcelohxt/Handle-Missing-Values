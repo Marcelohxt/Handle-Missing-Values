


import pandas as pd
import numpy as np
import matplotlib.pyplot as plt
import seaborn as sns
import warnings
warnings.filterwarnings("ignore")


df = pd.read_csv("dados/dataset.csv") 





# Proporção da variável de estado civil
df.marital.value_counts(normalize = True)


df.marital.value_counts(normalize = True).plot(kind = "barh")
plt.title("Proporção da variável de estado civil\n")
plt.legend()
plt.show()


# Proporção da variável de job
df.job.value_counts(normalize = True)



