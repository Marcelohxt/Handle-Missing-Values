














# Versão da Linguagem Python
from platform import python_version
print('Versão da Linguagem Python Usada Neste Jupyter Notebook:', python_version())


# Para atualizar um pacote, execute o comando abaixo no terminal ou prompt de comando:
# pip install -U nome_pacote

# Para instalar a versão exata de um pacote, execute o comando abaixo no terminal ou prompt de comando:
# !pip install nome_pacote==versão_desejada

# Depois de instalar ou atualizar o pacote, reinicie o jupyter notebook.

# Instala o pacote watermark. 
# Esse pacote é usado para gravar as versões de outros pacotes usados neste jupyter notebook.
# !pip install -q -U watermark


# Imports
import pandas as pd
import numpy as np
import matplotlib.pyplot as plt
import seaborn as sns
import warnings
warnings.filterwarnings("ignore")


# Versões dos pacotes usados neste jupyter notebook
%reload_ext watermark
%watermark -a "Data Science Academy" --iversions





# Carrega o dataset
df = pd.read_csv("dados/dataset.csv")


# Shape
df.shape


# Amostra
df.head()





# Info
df.info()


# Temos valores nulos? Sim ou não?
df.isna().any()


# Temos valores nulos? Quantos?
df.isna().sum()


# Não usaremos a coluna ID. Vamos removê-la.
df.drop(["customerid"], axis = 1, inplace = True)


# Colunas
df.columns





# Separar a coluna 'jobedu' em duas novas colunas: 'Job' e 'Education'
df[['Job', 'Education']] = df['jobedu'].str.split(',', expand=True)
#print(df)








# Valores ausentes no dataframe
df.isna().any()


# Valores ausentes da variável age
df.age.isnull().sum()


# Calcula o percentual de valores ausentes na variável age
df.age.isnull().mean()*100





# Histograma
df.age.plot(kind = "hist")
plt.title("Histograma da Variável Idade\n")
plt.show()


# Boxplot
sns.boxplot(df.age)
plt.title("Boxplot da Variável Idade\n")
plt.show()


# Vamos verificar qual é a média de idade.
df.age.mean()


# Vamos verificar qual é a mediana, valor do meio da distribuição quando os dados estão ordenados.
df.age.median()


# Vamos verificar qual é a moda, o valor que aparece com mais frequência.
df.age.mode()





# Coloque sua solução aqui








# Valores ausentes na variável
df.month.isnull().sum()


# Percentual de valores ausentes
df.month.isnull().mean()*100





# Tipo da variável
df.month.dtypes


# Categorias da variável
df.month.value_counts()





# Separar a coluna 'jobedu' em duas novas colunas: 'Job' e 'Education'
df[['Job', 'Education']] = df['jobedu'].str.split(',', expand=True)


df.head()








# Valores ausentes na variável
df.salary.isnull().sum()


# Calcula o percentual de valores ausentes na variável salary
df.salary.isnull().mean()*100





df.head()





# Histograma
df.salary.plot(kind = "hist")
plt.title("Histograma da Variável Salário\n")
plt.show()


# Boxplot
sns.boxplot(df.salary)
plt.title("Boxplot da Variável Salário\n")
plt.show()


# Vamos verificar qual é a média de idade.
df.salary.mean()


# Vamos verificar qual é a mediana.
df.salary.median()


# Vamos verificar qual é a moda.
df.salary.mode()





# Coloque sua solução aqui








df.head()


# Valores ausentes
df.response.isnull().sum()


# Calcula o percentual
df.response.isnull().mean()*100








# Coloque sua solução aqui








# Valores ausentes
df.pdays.isnull().sum()


# Describe
df.pdays.describe()





# Vamos fazer relace de -1 por NaN
df.pdays = df.pdays.replace({-1.0:np.NaN})


# Valores ausentes
df.pdays.isnull().sum()


# Calcula o percentual
df.pdays.isnull().mean()*100





# Coloque sua solução aqui















