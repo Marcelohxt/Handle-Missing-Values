


import math
import sys, os
import matplotlib.pyplot as plt
import numpy as np
import pandas as pd
import watermark 
import seaborn as sns
import warnings
warnings.filterwarnings("ignore")


sys.path.append(os.path.abspath(os.path.join('modulos')))
from estrategia1 import *
from estrategia2 import *
from estrategia3 import *





df = pd.read_csv("dados/dataset.csv")


df.shape


df.head()





# Get information about the dataset " coletando informações dataset" 
df.info()


# We have null values ? nos temos valores ausentes no data . verdadeiro ou falso para valores ausentes 
df.isna().any()


# Sum null values " soma valores ausentes' 
df.isna().sum()



# Iremos remover a coluna ID pois se trata de um identificação pouco importante 
  # Drop deleta coluna "CUSTOMER-ID" axis eixo 1 inplace = a imputar exclucão no date set!  
df.drop(["customerid"], axis = 1, inplace = True) 



df.columns # See the list of columns after deletion!  


df.head()





# Separar a coluna 'jobedu' em duas novas colunas: 'Job' e 'Education'
#df[['Job', 'Education']] = df['jobedu'].str.split(',', expand=True)
#print(df)


df.columns





df.isna().any()


df.isna().sum()





# A linha df.age.isnull().sum() conta quantos valores ausentes (nulos) existem na coluna age do DataFrame df
df.age.isnull().sum()


# A linha df.age.isnull().mean()*100 calcula a porcentagem de valores ausentes (nulos) na coluna age do DataFrame df.
df.age.isnull().mean()*100


# Histograma
df.age.plot(kind = "hist")
plt.title("Histograma da Variável Idade\n")
plt.show()


# Boxplot
sns.boxplot(df.age)
plt.title("Boxplot da Variável Idade\n")
plt.show()


# Vamos verificar qual é a média de idade.
df.age.mean()


# Vamos verificar qual é a mediana, valor do meio da distribuição quando os dados estão ordenados.
df.age.median()


# Vamos verificar qual é a moda, o valor que aparece com mais frequência.
df.age.mode()


df.age.info()


# Calculo de porcentagem de valores ausentes em AGE
func_calc_percentual_valores_ausentes(df.age)


df["age"] = df["age"].fillna(df["age"].median()).astype("int64")


convert_to_int(df, ["age"])


df.age


result = df.loc[:10, 'age']

# Exibir o resultado
print(result)






