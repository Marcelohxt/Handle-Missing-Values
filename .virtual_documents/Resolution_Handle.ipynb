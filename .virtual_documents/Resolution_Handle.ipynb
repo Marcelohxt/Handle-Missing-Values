


import math
import sys, os
import matplotlib.pyplot as plt
import numpy as np
import pandas as pd
import watermark 
import seaborn as sns
import warnings
warnings.filterwarnings("ignore")


sys.path.append(os.path.abspath(os.path.join('modulos')))
from estrategia1 import *
from estrategia2 import *
from estrategia3 import *





df = pd.read_csv("dados/dataset.csv")


df.shape


df.head()





# Get information about the dataset " coletando informações dataset" 
df.info()


# We have null values ? nos temos valores ausentes no data . verdadeiro ou falso para valores ausentes 
df.isna().any()


# Sum null values " soma valores ausentes' 
df.isna().sum()



# Iremos remover a coluna ID pois se trata de um identificação pouco importante 
  # Drop deleta coluna "CUSTOMER-ID" axis eixo 1 inplace = a imputar exclucão no date set!  
df.drop(["customerid"], axis = 1, inplace = True) 



df.columns # See the list of columns after deletion!  


df.head()





# Separar a coluna 'jobedu' em duas novas colunas: 'Job' e 'Education'
#df[['Job', 'Education']] = df['jobedu'].str.split(',', expand=True)
#print(df)


df.columns





df.isna().any()


df.isna().sum()





# A linha df.age.isnull().sum() conta quantos valores ausentes (nulos) existem na coluna age do DataFrame df
df.age.isnull().sum()


# A linha df.age.isnull().mean()*100 calcula a porcentagem de valores ausentes (nulos) na coluna age do DataFrame df.
df.age.isnull().mean()*100


# Histograma
df.age.plot(kind = "hist")
plt.title("Histograma da Variável Idade\n")
plt.show()


# Boxplot
sns.boxplot(df.age)
plt.title("Boxplot da Variável Idade\n")
plt.show()





# Vamos verificar qual é a média de idade.
df.age.mean()


# Vamos verificar qual é a mediana, valor do meio da distribuição quando os dados estão ordenados.
df.age.median()


# Vamos verificar qual é a moda, o valor que aparece com mais frequência.
df.age.mode()


df.age.info()


# Calculo de porcentagem de valores ausentes em AGE
func_calc_percentual_valores_ausentes(df.age)


df["age"] = df["age"].fillna(df["age"].median()).astype("int64")


convert_to_int(df, ["age"])


df.age


result = df.loc[:10, 'age']
# Exibir o resultado
print(result)


df.age.isnull().mean()*100





# Calculando numero de valores asentes na coluna "MONTH"
df.month.isnull().sum()



# Calculando o Percentual de valores ausentes 
df.month.isnull().mean()*100





df.month.dtypes


df.month.value_counts()








df.month.mode()


# Imputação com a moda 

# Preenchendo valores ausentes na coluna 'month' com "May, 2017"
# O método fillna() substitui os valores NaN pelo valor especificado.
# O parâmetro inplace=True faz a alteração diretamente no DataFrame, sem precisar reatribuir.
df['month'].fillna("May, 2017", inplace=True)



# Soma valores Ausentes na coluna month, com metodo insnull,,
df.month.isnull().sum()





# Calculando quantidade de valores ausentes na variavel salary
df.salary.isnull().sum()


# Calculando porcentagem de valores ausentes
df.salary.isnull().mean()*100



df.salary.dtypes





df.head()


# Histograma
df.salary.plot(kind = "hist")
plt.title("histograma da Varivel Salário\n")
plt.show()


# Boxplot 
sns.boxplot(df.salary)
plt.title("Boxplot da Variavel Salario\n")
plt.show()


# Vamos verificar qual é a média de idade
df.salary.mean()


# Vamos verificar qual é a mediana
df.salary.median()


# vamos verificar a Moda
df.salary.mode()





df.salary.fillna('6000', inplace = True)


df.salary.isnull().sum()


df.salary.isnull().mean()*100





df.salary.plot(kind = "hist")
plt.title("Histograma da Variavel Salario\n")
plt.show()


print(df["salary"].dtype)



# Substitui valores 0 na coluna "salary" pela mediana da própria coluna  
# Em seguida, preenche valores ausentes (NaN) também com a mediana  
df['salary'] = df['salary'].replace(0, df['salary'].median()).fillna(df['salary'].median())


# Calcula a porcentagem de valores ausentes (NaN) na coluna "salary"  
# Multiplicamos por 100 para expressar o resultado em percentual  
df.salary.isnull().mean() * 100


# Verifica se há valores ausentes (NaN) em cada coluna do DataFrame  
# Retorna um resultado booleano para cada coluna (True se houver valores ausentes, False caso contrário)  
df.isna().any()





# Calculando quantidade de valores ausentes na variavel salary
df.response.isnull().sum()


# Calculando porcentagem de valores ausentes
df.response.isnull().mean()*100


df.salary.dtypes


df.head()


# print(df['response'].head(50))  # Imprime as 50 primeiras linhas
# df.response.mode()


# Preencher valores ausentes com a moda (valor mais frequente)
# df['response'] = df['response'].fillna(df['response'].mode()[0])



# Calculando porcentagem de valores ausentes
# df.response.isnull().mean()*100





# Remove as linhas onde a coluna 'response' tem valores ausentes (NaN)
# O parâmetro 'subset' garante que apenas a coluna 'response' será verificada para valores ausentes.
# 'inplace = True' modifica o DataFrame original, sem criar uma cópia.
df.dropna(subset = ["response"], inplace = True)


# Verifica valores Na
df.isnull().sum()





df.pdays.isnull().sum()


# Exibe estatísticas descritivas da coluna 'pdays', como a contagem, média, desvio padrão, valores mínimo e máximo,
# e os quartis (25%, 50%, 75%) para entender melhor a distribuição dos dados na coluna 'pdays'.
df.pdays.describe()





df.pdays = df.pdays.replace({-1.0:np.NaN})


df.pdays.isnull().sum()


df.pdays.isnull().mean()*100





df.drop(["pdays"], axis = 1, inplace = True) 


df.isnull().sum()












