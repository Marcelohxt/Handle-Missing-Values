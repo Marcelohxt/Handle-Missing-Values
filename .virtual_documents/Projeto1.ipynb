











# Versão da Linguagem Python
from platform import python_version
print('Versão da Linguagem Python Usada Neste Jupyter Notebook:', python_version())


# Para atualizar um pacote, execute o comando abaixo no terminal ou prompt de comando:
# pip install -U nome_pacote

# Para instalar a versão exata de um pacote, execute o comando abaixo no terminal ou prompt de comando:
# !pip install nome_pacote==versão_desejada

# Depois de instalar ou atualizar o pacote, reinicie o jupyter notebook.

# Instala o pacote watermark. 
# Esse pacote é usado para gravar as versões de outros pacotes usados neste jupyter notebook.
!pip install -q -U watermark


#!pip install -q -U pandas==1.2.4


# Instala o pacote iPython-sql 
# https://pypi.org/project/ipython-sql/
!pip install -q ipython-sql


# Imports
import pandas as pd
import sqlite3


# Versões dos pacotes usados neste jupyter notebook
%reload_ext watermark
%watermark -a "Data Science Academy" --iversions





# Cria um dataframe
dados = pd.DataFrame({'nome': ['Siri', 'Alexa', 'Cortana'],
                      'idade': [28, 47, 18],
                      'cargo': ['Analista de Dados', 'Cientista de Dados', 'Engenheiro de Dados']})


dados.head()


# Apaga o banco de dados
#!del 'database/dbprojeto1.db'
!rm 'database/dbprojeto1.db'


# Criamos a conexão a um banco de dados SQLite
cnn = sqlite3.connect('database/dbprojeto1.db')


# Copia o dataframe para dentro do banco de dados como uma tabela
dados.to_sql('funcionarios', cnn)


# Carregamos a extensão SQL
%load_ext sql


# Definimos o banco de dados
%sql sqlite:///database/dbprojeto1.db





%%sql

SELECT * FROM funcionarios


%%sql

SELECT count(*) FROM funcionarios


%%sql

SELECT avg(idade) as 'idade_media' FROM funcionarios





df = pd.read_csv('dataset/diabetes.csv')


type(df)


df.shape


df.head()


# Copia o dataframe para dentro do banco de dados como uma tabela
df.to_sql('diabetes', cnn)


%%sql

SELECT count(*) FROM diabetes


%%sql

SELECT Age, Glucose, Outcome FROM diabetes WHERE Glucose > 190


df.columns


%%sql

CREATE TABLE pacientes (Pregnancies INT,
                        Glucose INT,
                        BloodPressure INT,
                        SkinThickness INT,
                        Insulin INT,
                        BMI DECIMAL(8, 2),
                        DiabetesPedigreeFunction DECIMAL(8, 2),
                        Age INT,
                        Outcome INT);


%%sql

SELECT * FROM pacientes


%%sql

INSERT INTO pacientes(Pregnancies, 
                      Glucose, 
                      BloodPressure, 
                      SkinThickness, 
                      Insulin, 
                      BMI, 
                      DiabetesPedigreeFunction, 
                      Age, 
                      Outcome) 
SELECT Pregnancies, 
       Glucose, 
       BloodPressure, 
       SkinThickness, 
       Insulin, 
       BMI, 
       DiabetesPedigreeFunction, 
       Age, 
       Outcome 
FROM diabetes WHERE Age > 50;


%%sql

SELECT * FROM pacientes


%%sql 

ALTER TABLE pacientes
ADD Perfil VARCHAR(10);


%%sql

SELECT * FROM pacientes


%%sql

UPDATE pacientes
SET Perfil = 'Normal'
WHERE BMI < 30;


%%sql

SELECT * FROM pacientes


%%sql

UPDATE pacientes
SET Perfil = 'Obeso'
WHERE BMI >= 30;


%%sql

SELECT * FROM pacientes





# Query
query = cnn.execute("SELECT * FROM pacientes")
query


# List Comprehension
cols = [coluna[0] for coluna in query.description]
cols


# Gera o dataframe
resultado = pd.DataFrame.from_records(data = query.fetchall(), columns = cols)


# Shape
resultado.shape


# Visualiza
resultado.head()


# Salva em CSV
resultado.to_csv('dataset/pacientes.csv', index = False)



