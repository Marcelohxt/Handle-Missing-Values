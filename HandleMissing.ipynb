{
 "cells": [
  {
   "cell_type": "code",
   "execution_count": 80,
   "id": "a956d1c2-382a-4c1a-9ba5-211877784197",
   "metadata": {},
   "outputs": [],
   "source": [
    "import math\n",
    "import sys, os\n",
    "import numpy as np\n",
    "import pandas as pd\n",
    "import watermark "
   ]
  },
  {
   "cell_type": "code",
   "execution_count": 81,
   "id": "6a807ff7-acb4-40a7-bd6f-f3cceb94f634",
   "metadata": {},
   "outputs": [],
   "source": [
    "sys.path.append(os.path.abspath(os.path.join('modulos')))\n",
    "from estrategia1 import *\n",
    "from estrategia2 import *\n",
    "from estrategia3 import *"
   ]
  },
  {
   "cell_type": "code",
   "execution_count": 82,
   "id": "8222cefb-87e7-401b-b6d9-70893538babc",
   "metadata": {},
   "outputs": [],
   "source": [
    "pd.set_option('display.max_columns', 100)"
   ]
  },
  {
   "cell_type": "markdown",
   "id": "4c9eca00-f239-4fd5-b4ca-1be7c30e4942",
   "metadata": {},
   "source": [
    "## Carregando os Dados"
   ]
  },
  {
   "cell_type": "code",
   "execution_count": 84,
   "id": "7b1a43be-fa5b-44a1-b13c-ed2a4db72f40",
   "metadata": {},
   "outputs": [],
   "source": [
    "# Criamos uma lista para identificar valores ausentes\n",
    "lista_labels_valores_ausentes = [\"n/a\", \"na\", \"non-null\", \"undefined\"]"
   ]
  },
  {
   "cell_type": "code",
   "execution_count": 85,
   "id": "45aa28a0-2706-426f-950f-c1f57566172b",
   "metadata": {},
   "outputs": [],
   "source": [
    "dataset = pd.read_csv(\"dados/dataset.csv\", na_values = lista_labels_valores_ausentes)"
   ]
  },
  {
   "cell_type": "code",
   "execution_count": 86,
   "id": "f642000d-e3c2-4e97-bc78-b090d8663463",
   "metadata": {},
   "outputs": [
    {
     "data": {
      "text/plain": [
       "(45211, 19)"
      ]
     },
     "execution_count": 86,
     "metadata": {},
     "output_type": "execute_result"
    }
   ],
   "source": [
    "# Shape\n",
    "dataset.shape"
   ]
  },
  {
   "cell_type": "code",
   "execution_count": 87,
   "id": "b3ae6efb-4ba1-4a33-8744-f6042344b761",
   "metadata": {},
   "outputs": [
    {
     "data": {
      "text/html": [
       "<div>\n",
       "<style scoped>\n",
       "    .dataframe tbody tr th:only-of-type {\n",
       "        vertical-align: middle;\n",
       "    }\n",
       "\n",
       "    .dataframe tbody tr th {\n",
       "        vertical-align: top;\n",
       "    }\n",
       "\n",
       "    .dataframe thead th {\n",
       "        text-align: right;\n",
       "    }\n",
       "</style>\n",
       "<table border=\"1\" class=\"dataframe\">\n",
       "  <thead>\n",
       "    <tr style=\"text-align: right;\">\n",
       "      <th></th>\n",
       "      <th>customerid</th>\n",
       "      <th>age</th>\n",
       "      <th>salary</th>\n",
       "      <th>balance</th>\n",
       "      <th>marital</th>\n",
       "      <th>jobedu</th>\n",
       "      <th>targeted</th>\n",
       "      <th>default</th>\n",
       "      <th>housing</th>\n",
       "      <th>loan</th>\n",
       "      <th>contact</th>\n",
       "      <th>day</th>\n",
       "      <th>month</th>\n",
       "      <th>duration</th>\n",
       "      <th>campaign</th>\n",
       "      <th>pdays</th>\n",
       "      <th>previous</th>\n",
       "      <th>poutcome</th>\n",
       "      <th>response</th>\n",
       "    </tr>\n",
       "  </thead>\n",
       "  <tbody>\n",
       "    <tr>\n",
       "      <th>0</th>\n",
       "      <td>1</td>\n",
       "      <td>58.0</td>\n",
       "      <td>100000.0</td>\n",
       "      <td>2143</td>\n",
       "      <td>married</td>\n",
       "      <td>management,tertiary</td>\n",
       "      <td>yes</td>\n",
       "      <td>no</td>\n",
       "      <td>yes</td>\n",
       "      <td>no</td>\n",
       "      <td>unknown</td>\n",
       "      <td>5</td>\n",
       "      <td>may, 2017</td>\n",
       "      <td>261 sec</td>\n",
       "      <td>1</td>\n",
       "      <td>-1</td>\n",
       "      <td>0</td>\n",
       "      <td>unknown</td>\n",
       "      <td>no</td>\n",
       "    </tr>\n",
       "    <tr>\n",
       "      <th>1</th>\n",
       "      <td>2</td>\n",
       "      <td>44.0</td>\n",
       "      <td>60000.0</td>\n",
       "      <td>29</td>\n",
       "      <td>single</td>\n",
       "      <td>technician,secondary</td>\n",
       "      <td>yes</td>\n",
       "      <td>no</td>\n",
       "      <td>yes</td>\n",
       "      <td>no</td>\n",
       "      <td>unknown</td>\n",
       "      <td>5</td>\n",
       "      <td>may, 2017</td>\n",
       "      <td>151 sec</td>\n",
       "      <td>1</td>\n",
       "      <td>-1</td>\n",
       "      <td>0</td>\n",
       "      <td>unknown</td>\n",
       "      <td>no</td>\n",
       "    </tr>\n",
       "    <tr>\n",
       "      <th>2</th>\n",
       "      <td>3</td>\n",
       "      <td>33.0</td>\n",
       "      <td>120000.0</td>\n",
       "      <td>2</td>\n",
       "      <td>married</td>\n",
       "      <td>entrepreneur,secondary</td>\n",
       "      <td>yes</td>\n",
       "      <td>no</td>\n",
       "      <td>yes</td>\n",
       "      <td>yes</td>\n",
       "      <td>unknown</td>\n",
       "      <td>5</td>\n",
       "      <td>may, 2017</td>\n",
       "      <td>76 sec</td>\n",
       "      <td>1</td>\n",
       "      <td>-1</td>\n",
       "      <td>0</td>\n",
       "      <td>unknown</td>\n",
       "      <td>no</td>\n",
       "    </tr>\n",
       "    <tr>\n",
       "      <th>3</th>\n",
       "      <td>4</td>\n",
       "      <td>47.0</td>\n",
       "      <td>20000.0</td>\n",
       "      <td>1506</td>\n",
       "      <td>married</td>\n",
       "      <td>blue-collar,unknown</td>\n",
       "      <td>no</td>\n",
       "      <td>no</td>\n",
       "      <td>yes</td>\n",
       "      <td>no</td>\n",
       "      <td>unknown</td>\n",
       "      <td>5</td>\n",
       "      <td>may, 2017</td>\n",
       "      <td>92 sec</td>\n",
       "      <td>1</td>\n",
       "      <td>-1</td>\n",
       "      <td>0</td>\n",
       "      <td>unknown</td>\n",
       "      <td>no</td>\n",
       "    </tr>\n",
       "    <tr>\n",
       "      <th>4</th>\n",
       "      <td>5</td>\n",
       "      <td>33.0</td>\n",
       "      <td>0.0</td>\n",
       "      <td>1</td>\n",
       "      <td>single</td>\n",
       "      <td>unknown,unknown</td>\n",
       "      <td>no</td>\n",
       "      <td>no</td>\n",
       "      <td>no</td>\n",
       "      <td>no</td>\n",
       "      <td>unknown</td>\n",
       "      <td>5</td>\n",
       "      <td>may, 2017</td>\n",
       "      <td>198 sec</td>\n",
       "      <td>1</td>\n",
       "      <td>-1</td>\n",
       "      <td>0</td>\n",
       "      <td>unknown</td>\n",
       "      <td>no</td>\n",
       "    </tr>\n",
       "  </tbody>\n",
       "</table>\n",
       "</div>"
      ],
      "text/plain": [
       "   customerid   age    salary  balance  marital                  jobedu  \\\n",
       "0           1  58.0  100000.0     2143  married     management,tertiary   \n",
       "1           2  44.0   60000.0       29   single    technician,secondary   \n",
       "2           3  33.0  120000.0        2  married  entrepreneur,secondary   \n",
       "3           4  47.0   20000.0     1506  married     blue-collar,unknown   \n",
       "4           5  33.0       0.0        1   single         unknown,unknown   \n",
       "\n",
       "  targeted default housing loan  contact  day      month duration  campaign  \\\n",
       "0      yes      no     yes   no  unknown    5  may, 2017  261 sec         1   \n",
       "1      yes      no     yes   no  unknown    5  may, 2017  151 sec         1   \n",
       "2      yes      no     yes  yes  unknown    5  may, 2017   76 sec         1   \n",
       "3       no      no     yes   no  unknown    5  may, 2017   92 sec         1   \n",
       "4       no      no      no   no  unknown    5  may, 2017  198 sec         1   \n",
       "\n",
       "   pdays  previous poutcome response  \n",
       "0     -1         0  unknown       no  \n",
       "1     -1         0  unknown       no  \n",
       "2     -1         0  unknown       no  \n",
       "3     -1         0  unknown       no  \n",
       "4     -1         0  unknown       no  "
      ]
     },
     "execution_count": 87,
     "metadata": {},
     "output_type": "execute_result"
    }
   ],
   "source": [
    "dataset.head()"
   ]
  },
  {
   "cell_type": "markdown",
   "id": "0856fd78-6d5a-4822-a471-13d5ebfa923b",
   "metadata": {},
   "source": [
    "### Analise Exploratoria"
   ]
  },
  {
   "cell_type": "code",
   "execution_count": 89,
   "id": "6b50adba-99f9-4377-8305-05d24fe222b8",
   "metadata": {},
   "outputs": [
    {
     "name": "stdout",
     "output_type": "stream",
     "text": [
      "<class 'pandas.core.frame.DataFrame'>\n",
      "RangeIndex: 45211 entries, 0 to 45210\n",
      "Data columns (total 19 columns):\n",
      " #   Column      Non-Null Count  Dtype  \n",
      "---  ------      --------------  -----  \n",
      " 0   customerid  45211 non-null  int64  \n",
      " 1   age         45191 non-null  float64\n",
      " 2   salary      45185 non-null  float64\n",
      " 3   balance     45211 non-null  int64  \n",
      " 4   marital     45211 non-null  object \n",
      " 5   jobedu      45211 non-null  object \n",
      " 6   targeted    45211 non-null  object \n",
      " 7   default     45211 non-null  object \n",
      " 8   housing     45211 non-null  object \n",
      " 9   loan        45211 non-null  object \n",
      " 10  contact     45211 non-null  object \n",
      " 11  day         45211 non-null  int64  \n",
      " 12  month       45161 non-null  object \n",
      " 13  duration    45211 non-null  object \n",
      " 14  campaign    45211 non-null  int64  \n",
      " 15  pdays       45211 non-null  int64  \n",
      " 16  previous    45211 non-null  int64  \n",
      " 17  poutcome    45211 non-null  object \n",
      " 18  response    45181 non-null  object \n",
      "dtypes: float64(2), int64(6), object(11)\n",
      "memory usage: 6.6+ MB\n"
     ]
    }
   ],
   "source": [
    "dataset.info()"
   ]
  },
  {
   "cell_type": "code",
   "execution_count": 90,
   "id": "8970d19c-4a43-4982-be8e-77d8bae25c53",
   "metadata": {},
   "outputs": [
    {
     "data": {
      "text/html": [
       "<div>\n",
       "<style scoped>\n",
       "    .dataframe tbody tr th:only-of-type {\n",
       "        vertical-align: middle;\n",
       "    }\n",
       "\n",
       "    .dataframe tbody tr th {\n",
       "        vertical-align: top;\n",
       "    }\n",
       "\n",
       "    .dataframe thead th {\n",
       "        text-align: right;\n",
       "    }\n",
       "</style>\n",
       "<table border=\"1\" class=\"dataframe\">\n",
       "  <thead>\n",
       "    <tr style=\"text-align: right;\">\n",
       "      <th></th>\n",
       "      <th>customerid</th>\n",
       "      <th>age</th>\n",
       "      <th>salary</th>\n",
       "      <th>balance</th>\n",
       "      <th>day</th>\n",
       "      <th>campaign</th>\n",
       "      <th>pdays</th>\n",
       "      <th>previous</th>\n",
       "    </tr>\n",
       "  </thead>\n",
       "  <tbody>\n",
       "    <tr>\n",
       "      <th>count</th>\n",
       "      <td>45211.000000</td>\n",
       "      <td>45191.000000</td>\n",
       "      <td>45185.000000</td>\n",
       "      <td>45211.000000</td>\n",
       "      <td>45211.000000</td>\n",
       "      <td>45211.000000</td>\n",
       "      <td>45211.000000</td>\n",
       "      <td>45211.000000</td>\n",
       "    </tr>\n",
       "    <tr>\n",
       "      <th>mean</th>\n",
       "      <td>22606.000000</td>\n",
       "      <td>40.935651</td>\n",
       "      <td>57008.653314</td>\n",
       "      <td>1362.272058</td>\n",
       "      <td>15.806419</td>\n",
       "      <td>2.763841</td>\n",
       "      <td>40.197828</td>\n",
       "      <td>0.580323</td>\n",
       "    </tr>\n",
       "    <tr>\n",
       "      <th>std</th>\n",
       "      <td>13051.435847</td>\n",
       "      <td>10.619198</td>\n",
       "      <td>32086.028522</td>\n",
       "      <td>3044.765829</td>\n",
       "      <td>8.322476</td>\n",
       "      <td>3.098021</td>\n",
       "      <td>100.128746</td>\n",
       "      <td>2.303441</td>\n",
       "    </tr>\n",
       "    <tr>\n",
       "      <th>min</th>\n",
       "      <td>1.000000</td>\n",
       "      <td>18.000000</td>\n",
       "      <td>0.000000</td>\n",
       "      <td>-8019.000000</td>\n",
       "      <td>1.000000</td>\n",
       "      <td>1.000000</td>\n",
       "      <td>-1.000000</td>\n",
       "      <td>0.000000</td>\n",
       "    </tr>\n",
       "    <tr>\n",
       "      <th>25%</th>\n",
       "      <td>11303.500000</td>\n",
       "      <td>33.000000</td>\n",
       "      <td>20000.000000</td>\n",
       "      <td>72.000000</td>\n",
       "      <td>8.000000</td>\n",
       "      <td>1.000000</td>\n",
       "      <td>-1.000000</td>\n",
       "      <td>0.000000</td>\n",
       "    </tr>\n",
       "    <tr>\n",
       "      <th>50%</th>\n",
       "      <td>22606.000000</td>\n",
       "      <td>39.000000</td>\n",
       "      <td>60000.000000</td>\n",
       "      <td>448.000000</td>\n",
       "      <td>16.000000</td>\n",
       "      <td>2.000000</td>\n",
       "      <td>-1.000000</td>\n",
       "      <td>0.000000</td>\n",
       "    </tr>\n",
       "    <tr>\n",
       "      <th>75%</th>\n",
       "      <td>33908.500000</td>\n",
       "      <td>48.000000</td>\n",
       "      <td>70000.000000</td>\n",
       "      <td>1428.000000</td>\n",
       "      <td>21.000000</td>\n",
       "      <td>3.000000</td>\n",
       "      <td>-1.000000</td>\n",
       "      <td>0.000000</td>\n",
       "    </tr>\n",
       "    <tr>\n",
       "      <th>max</th>\n",
       "      <td>45211.000000</td>\n",
       "      <td>95.000000</td>\n",
       "      <td>120000.000000</td>\n",
       "      <td>102127.000000</td>\n",
       "      <td>31.000000</td>\n",
       "      <td>63.000000</td>\n",
       "      <td>871.000000</td>\n",
       "      <td>275.000000</td>\n",
       "    </tr>\n",
       "  </tbody>\n",
       "</table>\n",
       "</div>"
      ],
      "text/plain": [
       "         customerid           age         salary        balance           day  \\\n",
       "count  45211.000000  45191.000000   45185.000000   45211.000000  45211.000000   \n",
       "mean   22606.000000     40.935651   57008.653314    1362.272058     15.806419   \n",
       "std    13051.435847     10.619198   32086.028522    3044.765829      8.322476   \n",
       "min        1.000000     18.000000       0.000000   -8019.000000      1.000000   \n",
       "25%    11303.500000     33.000000   20000.000000      72.000000      8.000000   \n",
       "50%    22606.000000     39.000000   60000.000000     448.000000     16.000000   \n",
       "75%    33908.500000     48.000000   70000.000000    1428.000000     21.000000   \n",
       "max    45211.000000     95.000000  120000.000000  102127.000000     31.000000   \n",
       "\n",
       "           campaign         pdays      previous  \n",
       "count  45211.000000  45211.000000  45211.000000  \n",
       "mean       2.763841     40.197828      0.580323  \n",
       "std        3.098021    100.128746      2.303441  \n",
       "min        1.000000     -1.000000      0.000000  \n",
       "25%        1.000000     -1.000000      0.000000  \n",
       "50%        2.000000     -1.000000      0.000000  \n",
       "75%        3.000000     -1.000000      0.000000  \n",
       "max       63.000000    871.000000    275.000000  "
      ]
     },
     "execution_count": 90,
     "metadata": {},
     "output_type": "execute_result"
    }
   ],
   "source": [
    "dataset.describe()"
   ]
  },
  {
   "cell_type": "code",
   "execution_count": 91,
   "id": "318a62e1-db06-461b-834b-d949a40d96db",
   "metadata": {},
   "outputs": [
    {
     "data": {
      "text/plain": [
       "(45211, 19)"
      ]
     },
     "execution_count": 91,
     "metadata": {},
     "output_type": "execute_result"
    }
   ],
   "source": [
    "dataset.shape"
   ]
  },
  {
   "cell_type": "markdown",
   "id": "88959b60-ee6c-4036-bb53-0e481ee9c5c7",
   "metadata": {},
   "source": [
    "### Estratégia de Limpeza 1 - Tratamento de Valores Ausentes\n",
    "\n",
    "- 1- Identificando Valores Ausentes\n",
    "- 2- Drop de Colunas\n",
    "- 3- Imputação com Preenchimento Reverso\n",
    "- 4- Imputação com Preenchimento Progressivo\n",
    "- 5- Imputação de Variáveis Categóricas\n",
    "- 6- Drop de Linhas"
   ]
  },
  {
   "cell_type": "code",
   "execution_count": 93,
   "id": "0275e022-4101-492d-b6cd-939c8ef33216",
   "metadata": {},
   "outputs": [
    {
     "name": "stdout",
     "output_type": "stream",
     "text": [
      "O dataset tem 0.01 % de valores ausentes.\n"
     ]
    }
   ],
   "source": [
    "func_calc_percentual_valores_ausentes(dataset)"
   ]
  },
  {
   "cell_type": "code",
   "execution_count": 94,
   "id": "1ab18d73-af2d-4509-b284-1e895f5b43e0",
   "metadata": {},
   "outputs": [
    {
     "name": "stdout",
     "output_type": "stream",
     "text": [
      "O dataset tem 19 colunas.\n",
      "Encontrado: 4 colunas que têm valores ausentes.\n"
     ]
    }
   ],
   "source": [
    "df_missing = func_calc_percentual_valores_ausentes_coluna(dataset)"
   ]
  },
  {
   "cell_type": "code",
   "execution_count": 95,
   "id": "8a05cef7-59e1-4a8f-9e9a-bb6db7aff299",
   "metadata": {},
   "outputs": [
    {
     "data": {
      "text/html": [
       "<div>\n",
       "<style scoped>\n",
       "    .dataframe tbody tr th:only-of-type {\n",
       "        vertical-align: middle;\n",
       "    }\n",
       "\n",
       "    .dataframe tbody tr th {\n",
       "        vertical-align: top;\n",
       "    }\n",
       "\n",
       "    .dataframe thead th {\n",
       "        text-align: right;\n",
       "    }\n",
       "</style>\n",
       "<table border=\"1\" class=\"dataframe\">\n",
       "  <thead>\n",
       "    <tr style=\"text-align: right;\">\n",
       "      <th></th>\n",
       "      <th>Valores Ausentes</th>\n",
       "      <th>% de Valores Ausentes</th>\n",
       "      <th>Dtype</th>\n",
       "    </tr>\n",
       "  </thead>\n",
       "  <tbody>\n",
       "    <tr>\n",
       "      <th>month</th>\n",
       "      <td>50</td>\n",
       "      <td>0.11</td>\n",
       "      <td>object</td>\n",
       "    </tr>\n",
       "    <tr>\n",
       "      <th>response</th>\n",
       "      <td>30</td>\n",
       "      <td>0.07</td>\n",
       "      <td>object</td>\n",
       "    </tr>\n",
       "    <tr>\n",
       "      <th>salary</th>\n",
       "      <td>26</td>\n",
       "      <td>0.06</td>\n",
       "      <td>float64</td>\n",
       "    </tr>\n",
       "    <tr>\n",
       "      <th>age</th>\n",
       "      <td>20</td>\n",
       "      <td>0.04</td>\n",
       "      <td>float64</td>\n",
       "    </tr>\n",
       "  </tbody>\n",
       "</table>\n",
       "</div>"
      ],
      "text/plain": [
       "          Valores Ausentes  % de Valores Ausentes    Dtype\n",
       "month                   50                   0.11   object\n",
       "response                30                   0.07   object\n",
       "salary                  26                   0.06  float64\n",
       "age                     20                   0.04  float64"
      ]
     },
     "execution_count": 95,
     "metadata": {},
     "output_type": "execute_result"
    }
   ],
   "source": [
    "df_missing"
   ]
  },
  {
   "cell_type": "code",
   "execution_count": 96,
   "id": "e55ed03f-862b-4e73-81d8-d68f05d28749",
   "metadata": {},
   "outputs": [],
   "source": [
    "colunas_para_remover = df_missing[df_missing['% de Valores Ausentes'] >= 30.00].index.tolist()"
   ]
  },
  {
   "cell_type": "code",
   "execution_count": 97,
   "id": "6e7b48dc-d997-4590-bad3-3f3e27436035",
   "metadata": {},
   "outputs": [
    {
     "data": {
      "text/plain": [
       "[]"
      ]
     },
     "execution_count": 97,
     "metadata": {},
     "output_type": "execute_result"
    }
   ],
   "source": [
    "colunas_para_remover"
   ]
  },
  {
   "cell_type": "code",
   "execution_count": 98,
   "id": "ef92658d-13d6-4758-aaaf-818fb902cf9d",
   "metadata": {},
   "outputs": [
    {
     "name": "stdout",
     "output_type": "stream",
     "text": [
      "O dataset tem 0.01 % de valores ausentes.\n"
     ]
    }
   ],
   "source": [
    "func_calc_percentual_valores_ausentes(dataset)"
   ]
  },
  {
   "cell_type": "code",
   "execution_count": 99,
   "id": "25c5471a-b5bc-485c-b497-1ee75aaab32d",
   "metadata": {},
   "outputs": [
    {
     "name": "stdout",
     "output_type": "stream",
     "text": [
      "O dataset tem 19 colunas.\n",
      "Encontrado: 4 colunas que têm valores ausentes.\n"
     ]
    },
    {
     "data": {
      "text/html": [
       "<div>\n",
       "<style scoped>\n",
       "    .dataframe tbody tr th:only-of-type {\n",
       "        vertical-align: middle;\n",
       "    }\n",
       "\n",
       "    .dataframe tbody tr th {\n",
       "        vertical-align: top;\n",
       "    }\n",
       "\n",
       "    .dataframe thead th {\n",
       "        text-align: right;\n",
       "    }\n",
       "</style>\n",
       "<table border=\"1\" class=\"dataframe\">\n",
       "  <thead>\n",
       "    <tr style=\"text-align: right;\">\n",
       "      <th></th>\n",
       "      <th>Valores Ausentes</th>\n",
       "      <th>% de Valores Ausentes</th>\n",
       "      <th>Dtype</th>\n",
       "    </tr>\n",
       "  </thead>\n",
       "  <tbody>\n",
       "    <tr>\n",
       "      <th>month</th>\n",
       "      <td>50</td>\n",
       "      <td>0.11</td>\n",
       "      <td>object</td>\n",
       "    </tr>\n",
       "    <tr>\n",
       "      <th>response</th>\n",
       "      <td>30</td>\n",
       "      <td>0.07</td>\n",
       "      <td>object</td>\n",
       "    </tr>\n",
       "    <tr>\n",
       "      <th>salary</th>\n",
       "      <td>26</td>\n",
       "      <td>0.06</td>\n",
       "      <td>float64</td>\n",
       "    </tr>\n",
       "    <tr>\n",
       "      <th>age</th>\n",
       "      <td>20</td>\n",
       "      <td>0.04</td>\n",
       "      <td>float64</td>\n",
       "    </tr>\n",
       "  </tbody>\n",
       "</table>\n",
       "</div>"
      ],
      "text/plain": [
       "          Valores Ausentes  % de Valores Ausentes    Dtype\n",
       "month                   50                   0.11   object\n",
       "response                30                   0.07   object\n",
       "salary                  26                   0.06  float64\n",
       "age                     20                   0.04  float64"
      ]
     },
     "execution_count": 99,
     "metadata": {},
     "output_type": "execute_result"
    }
   ],
   "source": [
    "func_calc_percentual_valores_ausentes_coluna(dataset)"
   ]
  },
  {
   "cell_type": "markdown",
   "id": "725ba241-1727-4e59-93e2-ed3e1e193180",
   "metadata": {},
   "source": [
    "### Find and handle values in columns, and treat all values. \n",
    " - Define the dataset with df\n",
    " - Print results with \"isnull().sum\n",
    " - Count Values"
   ]
  },
  {
   "cell_type": "code",
   "execution_count": 102,
   "id": "5583de3c-41c8-4ced-a7b3-ed0ff931186e",
   "metadata": {},
   "outputs": [],
   "source": [
    "df = dataset"
   ]
  },
  {
   "cell_type": "code",
   "execution_count": 104,
   "id": "b2220439-a6c6-42aa-90f2-5964cb9f62d0",
   "metadata": {},
   "outputs": [
    {
     "name": "stdout",
     "output_type": "stream",
     "text": [
      "customerid     0\n",
      "age           20\n",
      "salary        26\n",
      "balance        0\n",
      "marital        0\n",
      "jobedu         0\n",
      "targeted       0\n",
      "default        0\n",
      "housing        0\n",
      "loan           0\n",
      "contact        0\n",
      "day            0\n",
      "month         50\n",
      "duration       0\n",
      "campaign       0\n",
      "pdays          0\n",
      "previous       0\n",
      "poutcome       0\n",
      "response      30\n",
      "dtype: int64\n"
     ]
    }
   ],
   "source": [
    "print(df.isnull().sum())"
   ]
  },
  {
   "cell_type": "code",
   "execution_count": 110,
   "id": "1638a17d-80ef-47cc-b9ed-0b8715155441",
   "metadata": {},
   "outputs": [],
   "source": [
    "df_missing = dataset[['age', 'salary', 'month', 'response']]"
   ]
  },
  {
   "cell_type": "code",
   "execution_count": 112,
   "id": "96a73a44-999d-430e-a4e9-880cea47dbb5",
   "metadata": {},
   "outputs": [
    {
     "name": "stdout",
     "output_type": "stream",
     "text": [
      "age         20\n",
      "salary      26\n",
      "month       50\n",
      "response    30\n",
      "dtype: int64\n"
     ]
    }
   ],
   "source": [
    "print(df_missing.isnull().sum())"
   ]
  },
  {
   "cell_type": "code",
   "execution_count": 114,
   "id": "c2620d14-5c44-4a2c-b169-d1382d7ee7fe",
   "metadata": {},
   "outputs": [
    {
     "data": {
      "text/html": [
       "<div>\n",
       "<style scoped>\n",
       "    .dataframe tbody tr th:only-of-type {\n",
       "        vertical-align: middle;\n",
       "    }\n",
       "\n",
       "    .dataframe tbody tr th {\n",
       "        vertical-align: top;\n",
       "    }\n",
       "\n",
       "    .dataframe thead th {\n",
       "        text-align: right;\n",
       "    }\n",
       "</style>\n",
       "<table border=\"1\" class=\"dataframe\">\n",
       "  <thead>\n",
       "    <tr style=\"text-align: right;\">\n",
       "      <th></th>\n",
       "      <th>age</th>\n",
       "      <th>salary</th>\n",
       "      <th>month</th>\n",
       "      <th>response</th>\n",
       "    </tr>\n",
       "  </thead>\n",
       "  <tbody>\n",
       "    <tr>\n",
       "      <th>0</th>\n",
       "      <td>58.0</td>\n",
       "      <td>100000.0</td>\n",
       "      <td>may, 2017</td>\n",
       "      <td>no</td>\n",
       "    </tr>\n",
       "    <tr>\n",
       "      <th>1</th>\n",
       "      <td>44.0</td>\n",
       "      <td>60000.0</td>\n",
       "      <td>may, 2017</td>\n",
       "      <td>no</td>\n",
       "    </tr>\n",
       "    <tr>\n",
       "      <th>2</th>\n",
       "      <td>33.0</td>\n",
       "      <td>120000.0</td>\n",
       "      <td>may, 2017</td>\n",
       "      <td>no</td>\n",
       "    </tr>\n",
       "    <tr>\n",
       "      <th>3</th>\n",
       "      <td>47.0</td>\n",
       "      <td>20000.0</td>\n",
       "      <td>may, 2017</td>\n",
       "      <td>no</td>\n",
       "    </tr>\n",
       "    <tr>\n",
       "      <th>4</th>\n",
       "      <td>33.0</td>\n",
       "      <td>0.0</td>\n",
       "      <td>may, 2017</td>\n",
       "      <td>no</td>\n",
       "    </tr>\n",
       "  </tbody>\n",
       "</table>\n",
       "</div>"
      ],
      "text/plain": [
       "    age    salary      month response\n",
       "0  58.0  100000.0  may, 2017       no\n",
       "1  44.0   60000.0  may, 2017       no\n",
       "2  33.0  120000.0  may, 2017       no\n",
       "3  47.0   20000.0  may, 2017       no\n",
       "4  33.0       0.0  may, 2017       no"
      ]
     },
     "execution_count": 114,
     "metadata": {},
     "output_type": "execute_result"
    }
   ],
   "source": [
    "df_missing.head()"
   ]
  },
  {
   "cell_type": "markdown",
   "id": "65050b27-bdce-4147-b275-a009b28234aa",
   "metadata": {},
   "source": [
    "### \"Handle missing data in the dataset!\"\n",
    " - Columns age and salary it is numerical "
   ]
  },
  {
   "cell_type": "code",
   "execution_count": 119,
   "id": "3040029d-ebf4-40f6-b1ae-40f0d7887f60",
   "metadata": {},
   "outputs": [],
   "source": [
    "# Preencher valores ausentes em 'age' e 'salary' com a média\n",
    "dataset['age'].fillna(dataset['age'].mean(), inplace=True)\n",
    "dataset['salary'].fillna(dataset['salary'].mean(), inplace=True)\n"
   ]
  },
  {
   "cell_type": "code",
   "execution_count": 121,
   "id": "611f6447-6220-406b-a70a-16a2dff3191a",
   "metadata": {},
   "outputs": [],
   "source": [
    "# Preencher valores ausentes em 'month' e 'response' com a moda\n",
    "dataset['month'].fillna(dataset['month'].mode()[0], inplace=True)\n",
    "dataset['response'].fillna(dataset['response'].mode()[0], inplace=True)\n"
   ]
  },
  {
   "cell_type": "code",
   "execution_count": 123,
   "id": "c8503019-bd7a-4573-a1fc-b7e5a2ad1a11",
   "metadata": {},
   "outputs": [
    {
     "name": "stdout",
     "output_type": "stream",
     "text": [
      "customerid    0\n",
      "age           0\n",
      "salary        0\n",
      "balance       0\n",
      "marital       0\n",
      "jobedu        0\n",
      "targeted      0\n",
      "default       0\n",
      "housing       0\n",
      "loan          0\n",
      "contact       0\n",
      "day           0\n",
      "month         0\n",
      "duration      0\n",
      "campaign      0\n",
      "pdays         0\n",
      "previous      0\n",
      "poutcome      0\n",
      "response      0\n",
      "dtype: int64\n"
     ]
    }
   ],
   "source": [
    "print(df.isnull().sum())"
   ]
  },
  {
   "cell_type": "code",
   "execution_count": 125,
   "id": "3be4bfc3-71ab-4a0e-b5ae-b1b328afe5e1",
   "metadata": {},
   "outputs": [
    {
     "name": "stdout",
     "output_type": "stream",
     "text": [
      "O dataset tem 0.0 % de valores ausentes.\n"
     ]
    }
   ],
   "source": [
    "func_calc_percentual_valores_ausentes(dataset)"
   ]
  },
  {
   "cell_type": "code",
   "execution_count": 127,
   "id": "4ca92459-5351-41d6-a4a8-5873443faef2",
   "metadata": {},
   "outputs": [
    {
     "name": "stdout",
     "output_type": "stream",
     "text": [
      "         customerid           age         salary        balance           day  \\\n",
      "count  45211.000000  45211.000000   45211.000000   45211.000000  45211.000000   \n",
      "mean   22606.000000     40.935651   57008.653314    1362.272058     15.806419   \n",
      "std    13051.435847     10.616848   32076.800953    3044.765829      8.322476   \n",
      "min        1.000000     18.000000       0.000000   -8019.000000      1.000000   \n",
      "25%    11303.500000     33.000000   20000.000000      72.000000      8.000000   \n",
      "50%    22606.000000     39.000000   60000.000000     448.000000     16.000000   \n",
      "75%    33908.500000     48.000000   70000.000000    1428.000000     21.000000   \n",
      "max    45211.000000     95.000000  120000.000000  102127.000000     31.000000   \n",
      "\n",
      "           campaign         pdays      previous  \n",
      "count  45211.000000  45211.000000  45211.000000  \n",
      "mean       2.763841     40.197828      0.580323  \n",
      "std        3.098021    100.128746      2.303441  \n",
      "min        1.000000     -1.000000      0.000000  \n",
      "25%        1.000000     -1.000000      0.000000  \n",
      "50%        2.000000     -1.000000      0.000000  \n",
      "75%        3.000000     -1.000000      0.000000  \n",
      "max       63.000000    871.000000    275.000000  \n"
     ]
    }
   ],
   "source": [
    "# Verificar resumo estatístico do dataset\n",
    "print(dataset.describe())\n"
   ]
  },
  {
   "cell_type": "code",
   "execution_count": 129,
   "id": "8b109077-5e67-40a7-a88e-03c9be08dcf0",
   "metadata": {},
   "outputs": [],
   "source": [
    "dataset['salary'] = dataset['salary'].replace(0, np.nan)\n",
    "dataset['salary'].fillna(dataset['salary'].median(), inplace=True)\n"
   ]
  },
  {
   "cell_type": "code",
   "execution_count": 151,
   "id": "26760537-7469-44fb-8810-d97e4a4c054e",
   "metadata": {},
   "outputs": [],
   "source": [
    "dataset['balance'] = dataset['balance'].apply(lambda x: x if x >= 0 else np.nan)\n",
    "dataset['balance'].fillna(dataset['balance'].median(), inplace=True)\n"
   ]
  },
  {
   "cell_type": "code",
   "execution_count": 154,
   "id": "09090cc8-e2ad-43a6-b729-0d4394f2fc06",
   "metadata": {},
   "outputs": [],
   "source": [
    "# Transformando a coluna 'age' em inteiro\n",
    "dataset['age'] = dataset['age'].astype(int)"
   ]
  },
  {
   "cell_type": "code",
   "execution_count": 172,
   "id": "4fc7f268-0dca-445c-a48e-31bbe407f225",
   "metadata": {},
   "outputs": [],
   "source": [
    "# Substituir vírgulas por nada (caso haja separadores de milhar) e pontos por ponto final (caso seja separador decimal)\n",
    "dataset['salary'] = dataset['salary'].replace({',': '', '.': '.'}, regex=True)\n",
    "\n",
    "# Converter a coluna 'salary' para float\n",
    "dataset['salary'] = dataset['salary'].astype(float)\n"
   ]
  },
  {
   "cell_type": "code",
   "execution_count": null,
   "id": "5dafe924-3e65-4aa0-aa67-fb66ea041242",
   "metadata": {},
   "outputs": [],
   "source": []
  },
  {
   "cell_type": "code",
   "execution_count": null,
   "id": "0a4e7f1a-3ceb-4c42-b776-0914ada31c1e",
   "metadata": {},
   "outputs": [],
   "source": []
  }
 ],
 "metadata": {
  "kernelspec": {
   "display_name": "Python [conda env:meu_ambiente]",
   "language": "python",
   "name": "conda-env-meu_ambiente-py"
  },
  "language_info": {
   "codemirror_mode": {
    "name": "ipython",
    "version": 3
   },
   "file_extension": ".py",
   "mimetype": "text/x-python",
   "name": "python",
   "nbconvert_exporter": "python",
   "pygments_lexer": "ipython3",
   "version": "3.8.20"
  }
 },
 "nbformat": 4,
 "nbformat_minor": 5
}
